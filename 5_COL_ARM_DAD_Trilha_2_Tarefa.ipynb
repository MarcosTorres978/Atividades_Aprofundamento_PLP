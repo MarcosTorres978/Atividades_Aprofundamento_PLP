{
  "nbformat": 4,
  "nbformat_minor": 0,
  "metadata": {
    "colab": {
      "name": "5.COL-ARM-DAD_Trilha_2_Tarefa.ipynb",
      "provenance": [],
      "collapsed_sections": [],
      "authorship_tag": "ABX9TyMvUHUSNtWWXm/JoWDhbqHG",
      "include_colab_link": true
    },
    "kernelspec": {
      "name": "python3",
      "display_name": "Python 3"
    },
    "language_info": {
      "name": "python"
    }
  },
  "cells": [
    {
      "cell_type": "markdown",
      "metadata": {
        "id": "view-in-github",
        "colab_type": "text"
      },
      "source": [
        "<a href=\"https://colab.research.google.com/github/MarcosTorres978/Atividades_Aprofundamento_PLP/blob/main/5_COL_ARM_DAD_Trilha_2_Tarefa.ipynb\" target=\"_parent\"><img src=\"https://colab.research.google.com/assets/colab-badge.svg\" alt=\"Open In Colab\"/></a>"
      ]
    },
    {
      "cell_type": "code",
      "metadata": {
        "colab": {
          "base_uri": "https://localhost:8080/",
          "height": 1000
        },
        "id": "gIaj0Gj7i_Wo",
        "outputId": "ec992323-ced7-47d1-ea30-0461d5730a0c"
      },
      "source": [
        "# data_exploration.py\n",
        "import pandas as pd\n",
        "import requests\n",
        "from bs4 import BeautifulSoup as bs\n",
        "import matplotlib.pyplot as plt\n",
        "import seaborn as sns\n",
        "\n",
        "# Método para extrair várias páginas de uma só vez\n",
        "def scrape_stats(base_url, year_start, year_end):\n",
        "    years = range(year_start, year_end + 1, 1)\n",
        "    \n",
        "    final_df = pd.DataFrame()\n",
        "    \n",
        "    for year in years:\n",
        "        print('Extraindo ano {}'.format(year))\n",
        "        req_url = base_url.format(year)\n",
        "        req = requests.get(req_url)\n",
        "        print(\"Resultado da requisição HTTP: \", req.status_code)\n",
        "        soup = bs(req.content, 'html.parser')\n",
        "        # print(soup)\n",
        "        table = soup.find(name='table', attrs={'id':'totals_stats'})\n",
        "        df = pd.read_html(str(table))[0] # Declaração e uso do dataframe\n",
        "        #df = pd.read_html(table_str)[0]\n",
        "        df['Year'] = format(year)\n",
        "        final_df = final_df.append(df)\n",
        "    return final_df\n",
        "\n",
        "# Utilizando o método criado\n",
        "url = 'https://www.basketball-reference.com/leagues/NBA_{}_totals.html'\n",
        "df = scrape_stats(url, 2013, 2020)\n",
        "\n",
        "#print(df.head())\n",
        "\n",
        "drop_indexes = df[df['Rk'] == 'Rk'].index # Seleciona indexes onde a coluna 'Rk' possui valor 'Rk'\n",
        "df.drop(drop_indexes, inplace=True) # Elimina os valores do index selecionados na variável drop_indexes da tabela\n",
        "\n",
        "# Convertendo tabelas para valores numéricos\n",
        "numeric_cols = df.columns.drop(['Player','Pos','Tm'])  # Para entender a mudança, exibir os dados do dataframe antes e depois\n",
        "df[numeric_cols] = df[numeric_cols].apply(pd.to_numeric)\n",
        "#print(df.head())\n",
        "\n",
        "#print('Formato: ', df.shape)\n",
        "#print('Head: ',df.head())\n",
        "#print('Tail: ', df.tail())\n",
        "#display(df.shape)\n",
        "#display(df.head())\n",
        "#display(df.tail())\n",
        "#print (df.columns.tolist())\n",
        "\n",
        "# Gráfico de média de bolas de 3 pontos arremessadas por ano\n",
        "#x = df.Year\n",
        "#y = df.'3PA'\n",
        "#sns.barplot(x='Year', y='3PA')\n",
        "#sns.barplot(x, y)\n",
        "\n",
        "plt.figure(figsize=(12,4))\n",
        "sns.barplot(x='Year', y='3PA', data = df)\n",
        "plt.title('Média de bolas de 3 pontos arremessadas por ano')\n",
        "#plt.hlines(wine.price.mean(),-0.5,7.5,color='r',linestyles=':')\n",
        "#plt.text(1, wine.price.mean() + 3, 'Média de Preço dos Vinhos Avaliados')\n",
        "#plt.xticks(rotation=45)\n",
        "plt.show()\n",
        "\n",
        "# Pode ocorrer a mensagem \"ValueError: cannot reindex from a duplicate axis\" com colunas duplicadas.\n",
        "# Para remover as colunas duplicadas, usar df.loc[:,~df.columns.duplicated()]\n",
        "# Fonte https://stackoverflow.com/questions/60270081/valueerror-cannot-reindex-from-a-duplicate-axis-in-groupby-pandas\n",
        "#print(\"Ini Duplicadas\")\n",
        "#print(df.columns.duplicated().any())\n",
        "#print(\"Fim Duplicadas\")\n",
        "\n",
        "# Agrupando os dados por ano e somando os valores\n",
        "# https://www.delftstack.com/howto/python-pandas/how-to-get-average-of-a-column-of-a-pandas-dataframe/\n",
        "grouped_df_lineplot = df.groupby('Year', as_index=False).mean()\n",
        "#print(grouped_df_lineplot.describe())\n",
        "# Gráfico em linha usando a média dos dados (IMPORTANTE: SE NÃO FIZER GROUP BY DOS DADOS RETORNA \"ValueError: cannot reindex from a duplicate axis\")\n",
        "#https://stackabuse.com/seaborn-line-plot-tutorial-and-examples/\n",
        "plt.figure(figsize=(12,4))\n",
        "sns.set_theme(style=\"darkgrid\")\n",
        "sns.lineplot(x=\"Year\", y=\"3PA\", data=grouped_df_lineplot, label = '3PA')\n",
        "plt.title('Média de bolas de 3 pontos arremessadas por ano', fontsize=14,weight='bold')\n",
        "#plt.grid(bool,'both')\n",
        "plt.legend()\n",
        "plt.tight_layout()\n",
        "plt.show()\n",
        "\n",
        "#---------------------------------------------------------------------------------------------\n",
        "\n",
        "# Ordena Data Frame por bola de 3 pontos convertidas em ordem decrescente\n",
        "sorted_df = df.sort_values(by=['3P'], axis=0, ascending=False)\n",
        "\n",
        "# Mostra 5 primeiras posições da tabela\n",
        "print('\\n\\033[1mDF ordenado por bola de 3 pontos em ordem decrescente por ano\\033[0m')\n",
        "sorted_df[['Player','3P','Year']].head()\n",
        "print(sorted_df[['Player','3P','Year']].head())\n",
        "\n",
        "# Agrupando os dados por jogador e somando os valores\n",
        "grouped_df = df.groupby('Player', as_index=False).sum()\n",
        "\n",
        "# Ordena Data Frame por bolas de 3 pontos convertidas em ordem decrescente\n",
        "sorted_df = df.sort_values(by=['3P'], axis=0, ascending=False)\n",
        "\n",
        "# Mostra 5 primeiras posições da tabela\n",
        "print('\\n\\033[1mDF ordenado por bola de 3 pontos em ordem decrescente após agrupar por jogador\\033[0m')\n",
        "sorted_df[['Player', '3P', '3PA']].head()"
      ],
      "execution_count": 1,
      "outputs": [
        {
          "output_type": "stream",
          "name": "stdout",
          "text": [
            "Extraindo ano 2013\n",
            "Resultado da requisição HTTP:  200\n",
            "Extraindo ano 2014\n",
            "Resultado da requisição HTTP:  200\n",
            "Extraindo ano 2015\n",
            "Resultado da requisição HTTP:  200\n",
            "Extraindo ano 2016\n",
            "Resultado da requisição HTTP:  200\n",
            "Extraindo ano 2017\n",
            "Resultado da requisição HTTP:  200\n",
            "Extraindo ano 2018\n",
            "Resultado da requisição HTTP:  200\n",
            "Extraindo ano 2019\n",
            "Resultado da requisição HTTP:  200\n",
            "Extraindo ano 2020\n",
            "Resultado da requisição HTTP:  200\n"
          ]
        },
        {
          "output_type": "display_data",
          "data": {
            "image/png": "[encoded data removed]",
            "text/plain": [
              "<Figure size 864x288 with 1 Axes>"
            ]
          },
          "metadata": {
            "needs_background": "light"
          }
        },
        {
          "output_type": "display_data",
          "data": {
            "image/png": "[encoded data removed]",
            "text/plain": [
              "<Figure size 864x288 with 1 Axes>"
            ]
          },
          "metadata": {
            "needs_background": "light"
          }
        },
        {
          "output_type": "stream",
          "name": "stdout",
          "text": [
            "\n",
            "\u001b[1mDF ordenado por bola de 3 pontos em ordem decrescente por ano\u001b[0m\n",
            "            Player   3P  Year\n",
            "121  Stephen Curry  402  2016\n",
            "165  Stephen Curry  354  2019\n",
            "124  Stephen Curry  324  2017\n",
            "267   James Harden  299  2020\n",
            "140  Stephen Curry  286  2015\n",
            "\n",
            "\u001b[1mDF ordenado por bola de 3 pontos em ordem decrescente após agrupar por jogador\u001b[0m\n"
          ]
        },
        {
          "output_type": "execute_result",
          "data": {
            "text/html": [
              "<div>\n",
              "<style scoped>\n",
              "    .dataframe tbody tr th:only-of-type {\n",
              "        vertical-align: middle;\n",
              "    }\n",
              "\n",
              "    .dataframe tbody tr th {\n",
              "        vertical-align: top;\n",
              "    }\n",
              "\n",
              "    .dataframe thead th {\n",
              "        text-align: right;\n",
              "    }\n",
              "</style>\n",
              "<table border=\"1\" class=\"dataframe\">\n",
              "  <thead>\n",
              "    <tr style=\"text-align: right;\">\n",
              "      <th></th>\n",
              "      <th>Player</th>\n",
              "      <th>3P</th>\n",
              "      <th>3PA</th>\n",
              "    </tr>\n",
              "  </thead>\n",
              "  <tbody>\n",
              "    <tr>\n",
              "      <th>121</th>\n",
              "      <td>Stephen Curry</td>\n",
              "      <td>402</td>\n",
              "      <td>886</td>\n",
              "    </tr>\n",
              "    <tr>\n",
              "      <th>165</th>\n",
              "      <td>Stephen Curry</td>\n",
              "      <td>354</td>\n",
              "      <td>810</td>\n",
              "    </tr>\n",
              "    <tr>\n",
              "      <th>124</th>\n",
              "      <td>Stephen Curry</td>\n",
              "      <td>324</td>\n",
              "      <td>789</td>\n",
              "    </tr>\n",
              "    <tr>\n",
              "      <th>267</th>\n",
              "      <td>James Harden</td>\n",
              "      <td>299</td>\n",
              "      <td>843</td>\n",
              "    </tr>\n",
              "    <tr>\n",
              "      <th>140</th>\n",
              "      <td>Stephen Curry</td>\n",
              "      <td>286</td>\n",
              "      <td>646</td>\n",
              "    </tr>\n",
              "  </tbody>\n",
              "</table>\n",
              "</div>"
            ],
            "text/plain": [
              "            Player   3P  3PA\n",
              "121  Stephen Curry  402  886\n",
              "165  Stephen Curry  354  810\n",
              "124  Stephen Curry  324  789\n",
              "267   James Harden  299  843\n",
              "140  Stephen Curry  286  646"
            ]
          },
          "metadata": {},
          "execution_count": 1
        }
      ]
    },
    {
      "cell_type": "code",
      "metadata": {
        "id": "MAjEsmSlquTp"
      },
      "source": [
        ""
      ],
      "execution_count": 1,
      "outputs": []
    }
  ]
}