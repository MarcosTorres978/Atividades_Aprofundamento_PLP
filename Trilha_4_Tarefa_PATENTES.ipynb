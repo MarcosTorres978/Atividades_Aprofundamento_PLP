{
  "nbformat": 4,
  "nbformat_minor": 0,
  "metadata": {
    "colab": {
      "name": "Trilha_4_Tarefa_PATENTES.ipynb",
      "provenance": [],
      "collapsed_sections": [],
      "include_colab_link": true
    },
    "kernelspec": {
      "name": "python3",
      "display_name": "Python 3"
    },
    "language_info": {
      "name": "python"
    }
  },
  "cells": [
    {
      "cell_type": "markdown",
      "metadata": {
        "id": "view-in-github",
        "colab_type": "text"
      },
      "source": [
        "<a href=\"https://colab.research.google.com/github/MarcosTorres978/Atividades_Aprofundamento_PLP/blob/main/Trilha_4_Tarefa_PATENTES.ipynb\" target=\"_parent\"><img src=\"https://colab.research.google.com/assets/colab-badge.svg\" alt=\"Open In Colab\"/></a>"
      ]
    },
    {
      "cell_type": "code",
      "metadata": {
        "id": "-sQD_AuCkWp8"
      },
      "source": [
        "import numpy as np\n",
        "import pandas as pd\n",
        "import matplotlib.pyplot as plt\n",
        "%matplotlib inline\n",
        "import seaborn as sns"
      ],
      "execution_count": null,
      "outputs": []
    },
    {
      "cell_type": "code",
      "metadata": {
        "id": "a1jTgIGsVqgY"
      },
      "source": [
        "PT = pd.read_csv('/content/patent_applications_total.csv')"
      ],
      "execution_count": null,
      "outputs": []
    },
    {
      "cell_type": "code",
      "metadata": {
        "colab": {
          "base_uri": "https://localhost:8080/",
          "height": 1000
        },
        "id": "1yzpvjA4cQo7",
        "outputId": "bdb8df11-576a-4a0d-fb05-d75fe680ce8a"
      },
      "source": [
        "print(\"\\033[1mFormato do arquivo:\\033[0m\")\n",
        "display(PT.shape)\n",
        "print('-----------------------------------------------')\n",
        "print(\"\\033[1mInício do arquivo:\\033[0m\")\n",
        "display(PT.head())\n",
        "print('-----------------------------------------------')\n",
        "print(\"\\033[1mFim do arquivo:\\033[0m\")\n",
        "display(PT.tail())\n",
        "print('-----------------------------------------------')\n",
        "print(\"\\033[1mValue Count - Países:\\033[0m\")\n",
        "display(PT.country.value_counts())\n",
        "print('-----------------------------------------------')\n",
        "print(\"\\033[1mPaíses duplicados:\\033[0m\")\n",
        "display(PT.country.duplicated().sum())\n",
        "print('-----------------------------------------------')\n",
        "print(\"\\033[1mPrimeiro e último país:\\033[0m\")\n",
        "display(PT.country.min(),PT.country.max())\n",
        "print('-----------------------------------------------')\n",
        "print(\"\\033[1mTipos de dados das colunas:\\033[0m\")\n",
        "display(PT.dtypes)\n",
        "print('-----------------------------------------------')\n",
        "print('\\033[1mSoma dos não-nulos\\033[0m')\n",
        "print(PT.notnull().sum())\n",
        "print('-----------------------------------------------')\n",
        "print('\\033[1mSoma dos nulos\\033[0m')\n",
        "print(PT.isnull().sum())\n",
        "print('-----------------------------------------------')\n",
        "print(\"\\033[1mNomes das colunas:\\033[0m\")\n",
        "print(PT.columns.values)\n",
        "print('-----------------------------------------------')\n",
        "print(\"\\033[1mDescribe do dataFrame:\\033[0m\")\n",
        "print(PT.describe())\n",
        "print('-----------------------------------------------')\n",
        "print(\"\\033[1mColumns.values do data PTame:\\033[0m\")\n",
        "\n",
        "print(PT.columns.values)"
      ],
      "execution_count": null,
      "outputs": [
        {
          "output_type": "stream",
          "name": "stdout",
          "text": [
            "\u001b[1mFormato do arquivo:\u001b[0m\n"
          ]
        },
        {
          "output_type": "display_data",
          "data": {
            "text/plain": [
              "(156, 20)"
            ]
          },
          "metadata": {}
        },
        {
          "output_type": "stream",
          "name": "stdout",
          "text": [
            "-----------------------------------------------\n",
            "\u001b[1mInício do arquivo:\u001b[0m\n"
          ]
        },
        {
          "output_type": "display_data",
          "data": {
            "text/html": [
              "<div>\n",
              "<style scoped>\n",
              "    .dataframe tbody tr th:only-of-type {\n",
              "        vertical-align: middle;\n",
              "    }\n",
              "\n",
              "    .dataframe tbody tr th {\n",
              "        vertical-align: top;\n",
              "    }\n",
              "\n",
              "    .dataframe thead th {\n",
              "        text-align: right;\n",
              "    }\n",
              "</style>\n",
              "<table border=\"1\" class=\"dataframe\">\n",
              "  <thead>\n",
              "    <tr style=\"text-align: right;\">\n",
              "      <th></th>\n",
              "      <th>country</th>\n",
              "      <th>1983</th>\n",
              "      <th>1984</th>\n",
              "      <th>1985</th>\n",
              "      <th>1986</th>\n",
              "      <th>1987</th>\n",
              "      <th>1988</th>\n",
              "      <th>1989</th>\n",
              "      <th>1990</th>\n",
              "      <th>1991</th>\n",
              "      <th>1992</th>\n",
              "      <th>1993</th>\n",
              "      <th>1994</th>\n",
              "      <th>1995</th>\n",
              "      <th>1996</th>\n",
              "      <th>1997</th>\n",
              "      <th>1998</th>\n",
              "      <th>1999</th>\n",
              "      <th>2000</th>\n",
              "      <th>2001</th>\n",
              "    </tr>\n",
              "  </thead>\n",
              "  <tbody>\n",
              "    <tr>\n",
              "      <th>0</th>\n",
              "      <td>Aruba</td>\n",
              "      <td>NaN</td>\n",
              "      <td>NaN</td>\n",
              "      <td>NaN</td>\n",
              "      <td>NaN</td>\n",
              "      <td>NaN</td>\n",
              "      <td>NaN</td>\n",
              "      <td>NaN</td>\n",
              "      <td>NaN</td>\n",
              "      <td>NaN</td>\n",
              "      <td>NaN</td>\n",
              "      <td>NaN</td>\n",
              "      <td>NaN</td>\n",
              "      <td>NaN</td>\n",
              "      <td>NaN</td>\n",
              "      <td>NaN</td>\n",
              "      <td>NaN</td>\n",
              "      <td>NaN</td>\n",
              "      <td>NaN</td>\n",
              "      <td>1</td>\n",
              "    </tr>\n",
              "    <tr>\n",
              "      <th>1</th>\n",
              "      <td>Albania</td>\n",
              "      <td>NaN</td>\n",
              "      <td>NaN</td>\n",
              "      <td>NaN</td>\n",
              "      <td>NaN</td>\n",
              "      <td>NaN</td>\n",
              "      <td>NaN</td>\n",
              "      <td>NaN</td>\n",
              "      <td>NaN</td>\n",
              "      <td>NaN</td>\n",
              "      <td>NaN</td>\n",
              "      <td>NaN</td>\n",
              "      <td>1560</td>\n",
              "      <td>18.8k</td>\n",
              "      <td>26k</td>\n",
              "      <td>35.2k</td>\n",
              "      <td>89.5k</td>\n",
              "      <td>112k</td>\n",
              "      <td>130k</td>\n",
              "      <td>89.8k</td>\n",
              "    </tr>\n",
              "    <tr>\n",
              "      <th>2</th>\n",
              "      <td>United Arab Emirates</td>\n",
              "      <td>NaN</td>\n",
              "      <td>NaN</td>\n",
              "      <td>NaN</td>\n",
              "      <td>NaN</td>\n",
              "      <td>NaN</td>\n",
              "      <td>NaN</td>\n",
              "      <td>NaN</td>\n",
              "      <td>NaN</td>\n",
              "      <td>NaN</td>\n",
              "      <td>NaN</td>\n",
              "      <td>NaN</td>\n",
              "      <td>NaN</td>\n",
              "      <td>NaN</td>\n",
              "      <td>NaN</td>\n",
              "      <td>8</td>\n",
              "      <td>24.2k</td>\n",
              "      <td>56.2k</td>\n",
              "      <td>75.4k</td>\n",
              "      <td>89.7k</td>\n",
              "    </tr>\n",
              "    <tr>\n",
              "      <th>3</th>\n",
              "      <td>Argentina</td>\n",
              "      <td>3840</td>\n",
              "      <td>NaN</td>\n",
              "      <td>NaN</td>\n",
              "      <td>NaN</td>\n",
              "      <td>NaN</td>\n",
              "      <td>NaN</td>\n",
              "      <td>NaN</td>\n",
              "      <td>NaN</td>\n",
              "      <td>2450</td>\n",
              "      <td>NaN</td>\n",
              "      <td>3550</td>\n",
              "      <td>NaN</td>\n",
              "      <td>NaN</td>\n",
              "      <td>5860</td>\n",
              "      <td>6320</td>\n",
              "      <td>6460</td>\n",
              "      <td>6630</td>\n",
              "      <td>NaN</td>\n",
              "      <td>NaN</td>\n",
              "    </tr>\n",
              "    <tr>\n",
              "      <th>4</th>\n",
              "      <td>Armenia</td>\n",
              "      <td>NaN</td>\n",
              "      <td>NaN</td>\n",
              "      <td>NaN</td>\n",
              "      <td>NaN</td>\n",
              "      <td>NaN</td>\n",
              "      <td>NaN</td>\n",
              "      <td>NaN</td>\n",
              "      <td>NaN</td>\n",
              "      <td>NaN</td>\n",
              "      <td>214</td>\n",
              "      <td>4890</td>\n",
              "      <td>15.6k</td>\n",
              "      <td>20.4k</td>\n",
              "      <td>25.1k</td>\n",
              "      <td>33.9k</td>\n",
              "      <td>40.3k</td>\n",
              "      <td>58.3k</td>\n",
              "      <td>75.7k</td>\n",
              "      <td>89.6k</td>\n",
              "    </tr>\n",
              "  </tbody>\n",
              "</table>\n",
              "</div>"
            ],
            "text/plain": [
              "                country  1983 1984 1985 1986  ...   1997   1998   1999   2000   2001\n",
              "0                 Aruba   NaN  NaN  NaN  NaN  ...    NaN    NaN    NaN    NaN      1\n",
              "1               Albania   NaN  NaN  NaN  NaN  ...  35.2k  89.5k   112k   130k  89.8k\n",
              "2  United Arab Emirates   NaN  NaN  NaN  NaN  ...      8  24.2k  56.2k  75.4k  89.7k\n",
              "3             Argentina  3840  NaN  NaN  NaN  ...   6320   6460   6630    NaN    NaN\n",
              "4               Armenia   NaN  NaN  NaN  NaN  ...  33.9k  40.3k  58.3k  75.7k  89.6k\n",
              "\n",
              "[5 rows x 20 columns]"
            ]
          },
          "metadata": {}
        },
        {
          "output_type": "stream",
          "name": "stdout",
          "text": [
            "-----------------------------------------------\n",
            "\u001b[1mFim do arquivo:\u001b[0m\n"
          ]
        },
        {
          "output_type": "display_data",
          "data": {
            "text/html": [
              "<div>\n",
              "<style scoped>\n",
              "    .dataframe tbody tr th:only-of-type {\n",
              "        vertical-align: middle;\n",
              "    }\n",
              "\n",
              "    .dataframe tbody tr th {\n",
              "        vertical-align: top;\n",
              "    }\n",
              "\n",
              "    .dataframe thead th {\n",
              "        text-align: right;\n",
              "    }\n",
              "</style>\n",
              "<table border=\"1\" class=\"dataframe\">\n",
              "  <thead>\n",
              "    <tr style=\"text-align: right;\">\n",
              "      <th></th>\n",
              "      <th>country</th>\n",
              "      <th>1983</th>\n",
              "      <th>1984</th>\n",
              "      <th>1985</th>\n",
              "      <th>1986</th>\n",
              "      <th>1987</th>\n",
              "      <th>1988</th>\n",
              "      <th>1989</th>\n",
              "      <th>1990</th>\n",
              "      <th>1991</th>\n",
              "      <th>1992</th>\n",
              "      <th>1993</th>\n",
              "      <th>1994</th>\n",
              "      <th>1995</th>\n",
              "      <th>1996</th>\n",
              "      <th>1997</th>\n",
              "      <th>1998</th>\n",
              "      <th>1999</th>\n",
              "      <th>2000</th>\n",
              "      <th>2001</th>\n",
              "    </tr>\n",
              "  </thead>\n",
              "  <tbody>\n",
              "    <tr>\n",
              "      <th>151</th>\n",
              "      <td>Samoa</td>\n",
              "      <td>NaN</td>\n",
              "      <td>4</td>\n",
              "      <td>NaN</td>\n",
              "      <td>NaN</td>\n",
              "      <td>NaN</td>\n",
              "      <td>NaN</td>\n",
              "      <td>NaN</td>\n",
              "      <td>NaN</td>\n",
              "      <td>NaN</td>\n",
              "      <td>NaN</td>\n",
              "      <td>NaN</td>\n",
              "      <td>2</td>\n",
              "      <td>3</td>\n",
              "      <td>NaN</td>\n",
              "      <td>NaN</td>\n",
              "      <td>NaN</td>\n",
              "      <td>NaN</td>\n",
              "      <td>NaN</td>\n",
              "      <td>NaN</td>\n",
              "    </tr>\n",
              "    <tr>\n",
              "      <th>152</th>\n",
              "      <td>Yugoslavia</td>\n",
              "      <td>2260</td>\n",
              "      <td>2070</td>\n",
              "      <td>2290</td>\n",
              "      <td>2450</td>\n",
              "      <td>2410</td>\n",
              "      <td>2510</td>\n",
              "      <td>2480</td>\n",
              "      <td>2010</td>\n",
              "      <td>NaN</td>\n",
              "      <td>NaN</td>\n",
              "      <td>NaN</td>\n",
              "      <td>NaN</td>\n",
              "      <td>NaN</td>\n",
              "      <td>NaN</td>\n",
              "      <td>NaN</td>\n",
              "      <td>NaN</td>\n",
              "      <td>NaN</td>\n",
              "      <td>NaN</td>\n",
              "      <td>NaN</td>\n",
              "    </tr>\n",
              "    <tr>\n",
              "      <th>153</th>\n",
              "      <td>South Africa</td>\n",
              "      <td>10.2k</td>\n",
              "      <td>9900</td>\n",
              "      <td>9780</td>\n",
              "      <td>9770</td>\n",
              "      <td>9730</td>\n",
              "      <td>9980</td>\n",
              "      <td>10.5k</td>\n",
              "      <td>10.2k</td>\n",
              "      <td>10.1k</td>\n",
              "      <td>9810</td>\n",
              "      <td>10.4k</td>\n",
              "      <td>11.1k</td>\n",
              "      <td>NaN</td>\n",
              "      <td>NaN</td>\n",
              "      <td>8</td>\n",
              "      <td>26.5k</td>\n",
              "      <td>58.2k</td>\n",
              "      <td>76.8k</td>\n",
              "      <td>90.7k</td>\n",
              "    </tr>\n",
              "    <tr>\n",
              "      <th>154</th>\n",
              "      <td>Zambia</td>\n",
              "      <td>79</td>\n",
              "      <td>105</td>\n",
              "      <td>133</td>\n",
              "      <td>120</td>\n",
              "      <td>109</td>\n",
              "      <td>92</td>\n",
              "      <td>105</td>\n",
              "      <td>120</td>\n",
              "      <td>161</td>\n",
              "      <td>173</td>\n",
              "      <td>90</td>\n",
              "      <td>94</td>\n",
              "      <td>99</td>\n",
              "      <td>96</td>\n",
              "      <td>93</td>\n",
              "      <td>92</td>\n",
              "      <td>10</td>\n",
              "      <td>3190</td>\n",
              "      <td>158k</td>\n",
              "    </tr>\n",
              "    <tr>\n",
              "      <th>155</th>\n",
              "      <td>Zimbabwe</td>\n",
              "      <td>225</td>\n",
              "      <td>250</td>\n",
              "      <td>287</td>\n",
              "      <td>263</td>\n",
              "      <td>216</td>\n",
              "      <td>219</td>\n",
              "      <td>260</td>\n",
              "      <td>270</td>\n",
              "      <td>302</td>\n",
              "      <td>293</td>\n",
              "      <td>91</td>\n",
              "      <td>233</td>\n",
              "      <td>211</td>\n",
              "      <td>22k</td>\n",
              "      <td>66.3k</td>\n",
              "      <td>80.2k</td>\n",
              "      <td>116k</td>\n",
              "      <td>150k</td>\n",
              "      <td>178k</td>\n",
              "    </tr>\n",
              "  </tbody>\n",
              "</table>\n",
              "</div>"
            ],
            "text/plain": [
              "          country   1983  1984  1985  1986  ...   1997   1998   1999   2000   2001\n",
              "151         Samoa    NaN     4   NaN   NaN  ...    NaN    NaN    NaN    NaN    NaN\n",
              "152    Yugoslavia   2260  2070  2290  2450  ...    NaN    NaN    NaN    NaN    NaN\n",
              "153  South Africa  10.2k  9900  9780  9770  ...      8  26.5k  58.2k  76.8k  90.7k\n",
              "154        Zambia     79   105   133   120  ...     93     92     10   3190   158k\n",
              "155      Zimbabwe    225   250   287   263  ...  66.3k  80.2k   116k   150k   178k\n",
              "\n",
              "[5 rows x 20 columns]"
            ]
          },
          "metadata": {}
        },
        {
          "output_type": "stream",
          "name": "stdout",
          "text": [
            "-----------------------------------------------\n",
            "\u001b[1mValue Count - Países:\u001b[0m\n"
          ]
        },
        {
          "output_type": "display_data",
          "data": {
            "text/plain": [
              "Luxembourg             1\n",
              "Oman                   1\n",
              "Antigua and Barbuda    1\n",
              "Aruba                  1\n",
              "Tanzania               1\n",
              "                      ..\n",
              "Lebanon                1\n",
              "St. Lucia              1\n",
              "Jamaica                1\n",
              "Malawi                 1\n",
              "Syria                  1\n",
              "Name: country, Length: 156, dtype: int64"
            ]
          },
          "metadata": {}
        },
        {
          "output_type": "stream",
          "name": "stdout",
          "text": [
            "-----------------------------------------------\n",
            "\u001b[1mPaíses duplicados:\u001b[0m\n"
          ]
        },
        {
          "output_type": "display_data",
          "data": {
            "text/plain": [
              "0"
            ]
          },
          "metadata": {}
        },
        {
          "output_type": "stream",
          "name": "stdout",
          "text": [
            "-----------------------------------------------\n",
            "\u001b[1mPrimeiro e último país:\u001b[0m\n"
          ]
        },
        {
          "output_type": "display_data",
          "data": {
            "application/vnd.google.colaboratory.intrinsic+json": {
              "type": "string"
            },
            "text/plain": [
              "'Albania'"
            ]
          },
          "metadata": {}
        },
        {
          "output_type": "display_data",
          "data": {
            "application/vnd.google.colaboratory.intrinsic+json": {
              "type": "string"
            },
            "text/plain": [
              "'Zimbabwe'"
            ]
          },
          "metadata": {}
        },
        {
          "output_type": "stream",
          "name": "stdout",
          "text": [
            "-----------------------------------------------\n",
            "\u001b[1mTipos de dados das colunas:\u001b[0m\n"
          ]
        },
        {
          "output_type": "display_data",
          "data": {
            "text/plain": [
              "country    object\n",
              "1983       object\n",
              "1984       object\n",
              "1985       object\n",
              "1986       object\n",
              "1987       object\n",
              "1988       object\n",
              "1989       object\n",
              "1990       object\n",
              "1991       object\n",
              "1992       object\n",
              "1993       object\n",
              "1994       object\n",
              "1995       object\n",
              "1996       object\n",
              "1997       object\n",
              "1998       object\n",
              "1999       object\n",
              "2000       object\n",
              "2001       object\n",
              "dtype: object"
            ]
          },
          "metadata": {}
        },
        {
          "output_type": "stream",
          "name": "stdout",
          "text": [
            "-----------------------------------------------\n",
            "\u001b[1mSoma dos não-nulos\u001b[0m\n",
            "country    156\n",
            "1983        92\n",
            "1984        96\n",
            "1985        90\n",
            "1986        83\n",
            "1987        91\n",
            "1988        91\n",
            "1989        91\n",
            "1990        93\n",
            "1991       101\n",
            "1992       104\n",
            "1993       109\n",
            "1994       113\n",
            "1995       110\n",
            "1996       101\n",
            "1997       103\n",
            "1998       112\n",
            "1999       118\n",
            "2000       109\n",
            "2001       114\n",
            "dtype: int64\n",
            "-----------------------------------------------\n",
            "\u001b[1mSoma dos nulos\u001b[0m\n",
            "country     0\n",
            "1983       64\n",
            "1984       60\n",
            "1985       66\n",
            "1986       73\n",
            "1987       65\n",
            "1988       65\n",
            "1989       65\n",
            "1990       63\n",
            "1991       55\n",
            "1992       52\n",
            "1993       47\n",
            "1994       43\n",
            "1995       46\n",
            "1996       55\n",
            "1997       53\n",
            "1998       44\n",
            "1999       38\n",
            "2000       47\n",
            "2001       42\n",
            "dtype: int64\n",
            "-----------------------------------------------\n",
            "\u001b[1mNomes das colunas:\u001b[0m\n",
            "['country' '1983' '1984' '1985' '1986' '1987' '1988' '1989' '1990' '1991'\n",
            " '1992' '1993' '1994' '1995' '1996' '1997' '1998' '1999' '2000' '2001']\n",
            "-----------------------------------------------\n",
            "\u001b[1mDescribe do dataFrame:\u001b[0m\n",
            "           country 1983 1984 1985 1986 1987  ... 1996 1997   1998  1999  2000  2001\n",
            "count          156   92   96   90   83   91  ...  101  103    112   118   109   114\n",
            "unique         156   88   92   87   83   88  ...   84   85     96    88    77    77\n",
            "top     Luxembourg   15   92   17   43    5  ...  26k  35k  41.8k  116k  150k  177k\n",
            "freq             1    2    2    3    1    2  ...    3    3      3     8     7     8\n",
            "\n",
            "[4 rows x 20 columns]\n",
            "-----------------------------------------------\n",
            "\u001b[1mColumns.values do data PTame:\u001b[0m\n",
            "['country' '1983' '1984' '1985' '1986' '1987' '1988' '1989' '1990' '1991'\n",
            " '1992' '1993' '1994' '1995' '1996' '1997' '1998' '1999' '2000' '2001']\n"
          ]
        }
      ]
    },
    {
      "cell_type": "markdown",
      "metadata": {
        "id": "CHpSiLAnBaC-"
      },
      "source": [
        "##**Print dos dados para o ano de 1999**"
      ]
    },
    {
      "cell_type": "code",
      "metadata": {
        "colab": {
          "base_uri": "https://localhost:8080/"
        },
        "id": "lhz9tOCD723h",
        "outputId": "4fe2a342-b843-453d-f023-0ba78b87012c"
      },
      "source": [
        "for i in range(0, len(PT)):\n",
        "    print(PT.iloc[i]['country'],PT.iloc[i]['1999'])"
      ],
      "execution_count": null,
      "outputs": [
        {
          "output_type": "stream",
          "name": "stdout",
          "text": [
            "Aruba nan\n",
            "Albania 112k\n",
            "United Arab Emirates 56.2k\n",
            "Argentina 6630\n",
            "Armenia 58.3k\n",
            "Antigua and Barbuda 32.4k\n",
            "Australia 80.7k\n",
            "Austria 201k\n",
            "Azerbaijan 58.1k\n",
            "Burundi nan\n",
            "Belgium 142k\n",
            "Bangladesh nan\n",
            "Bulgaria 60.5k\n",
            "Bahrain nan\n",
            "Bahamas nan\n",
            "Bosnia and Herzegovina 59.2k\n",
            "Belarus 59.4k\n",
            "Belize 21.3k\n",
            "Bolivia nan\n",
            "Brazil 64.7k\n",
            "Barbados 58.9k\n",
            "Brunei nan\n",
            "Botswana 15\n",
            "Canada 85.9k\n",
            "Switzerland 202k\n",
            "Czechoslovakia nan\n",
            "Chile 3120\n",
            "China 122k\n",
            "Congo, Dem. Rep. nan\n",
            "Colombia 1800\n",
            "Costa Rica 52.4k\n",
            "Cuba 58.4k\n",
            "Cyprus 140k\n",
            "Czech Republic 62.6k\n",
            "Germany 263k\n",
            "East Germany nan\n",
            "West Germany nan\n",
            "Dominica 52.2k\n",
            "Denmark 201k\n",
            "Dominican Republic nan\n",
            "Algeria 33.6k\n",
            "Ecuador 11\n",
            "Egypt 1620\n",
            "Spain 202k\n",
            "Estonia 60.2k\n",
            "Ethiopia 7\n",
            "Finland 198k\n",
            "Fiji nan\n",
            "France 160k\n",
            "United Kingdom 233k\n",
            "Georgia 59.4k\n",
            "Ghana 116k\n",
            "Gambia 115k\n",
            "Guinea-Bissau nan\n",
            "Greece 141k\n",
            "Grenada 57k\n",
            "Guatemala 226\n",
            "Guyana nan\n",
            "Hong Kong, China 8300\n",
            "Honduras 139\n",
            "Croatia 58.9k\n",
            "Haiti nan\n",
            "Hungary 62.4k\n",
            "Indonesia 60.4k\n",
            "India 60.9k\n",
            "Ireland 141k\n",
            "Iran 616\n",
            "Iraq nan\n",
            "Iceland 59.7k\n",
            "Israel 67.9k\n",
            "Italy 151k\n",
            "Jamaica 101\n",
            "Japan 486k\n",
            "Kazakhstan 59.6k\n",
            "Kenya 116k\n",
            "Kyrgyz Republic 58.2k\n",
            "Kiribati nan\n",
            "South Korea 172k\n",
            "Lebanon 104\n",
            "Liberia 58.9k\n",
            "Libya nan\n",
            "St. Lucia 58.7k\n",
            "Liechtenstein nan\n",
            "Sri Lanka 58.9k\n",
            "Lesotho 116k\n",
            "Lithuania 112k\n",
            "Luxembourg 199k\n",
            "Latvia 112k\n",
            "Macao, China nan\n",
            "Morocco 52k\n",
            "Monaco 140k\n",
            "Moldova 58.4k\n",
            "Madagascar 59k\n",
            "Mexico 66.9k\n",
            "North Macedonia 112k\n",
            "Malta 116\n",
            "Mongolia 59k\n",
            "Mozambique 56.6k\n",
            "Mauritius nan\n",
            "Malawi 116k\n",
            "Malaysia nan\n",
            "Namibia nan\n",
            "Nigeria nan\n",
            "Nicaragua 143\n",
            "Netherlands 144k\n",
            "Norway 68.1k\n",
            "Nepal nan\n",
            "New Zealand 67.9k\n",
            "Oman nan\n",
            "Pakistan 1200\n",
            "Panama 160\n",
            "Peru 1080\n",
            "Philippines 3640\n",
            "Papua New Guinea nan\n",
            "Poland 64.9k\n",
            "North Korea 57.8k\n",
            "Portugal 199k\n",
            "Paraguay nan\n",
            "Romania 113k\n",
            "Russia 89.4k\n",
            "Rwanda nan\n",
            "Saudi Arabia 873\n",
            "Serbia and Montenegro 59.7k\n",
            "Sudan 116k\n",
            "Singapore 70.2k\n",
            "Solomon Islands nan\n",
            "Sierra Leone 116k\n",
            "El Salvador nan\n",
            "Somalia nan\n",
            "Slovak Republic 60.5k\n",
            "Slovenia 113k\n",
            "Sweden 204k\n",
            "Eswatini 58k\n",
            "Seychelles nan\n",
            "Syria 296\n",
            "Thailand 5670\n",
            "Tajikistan 58.1k\n",
            "Turkmenistan 58.1k\n",
            "Trinidad and Tobago 59k\n",
            "Tunisia nan\n",
            "Turkey 77.3k\n",
            "Tanzania 109k\n",
            "Uganda 116k\n",
            "Ukraine 65.9k\n",
            "Uruguay 616\n",
            "United States 332k\n",
            "USSR nan\n",
            "Uzbekistan 59.9k\n",
            "St. Vincent and the Grenadines 2\n",
            "Venezuela 2350\n",
            "Vietnam 59.8k\n",
            "Samoa nan\n",
            "Yugoslavia nan\n",
            "South Africa 58.2k\n",
            "Zambia 10\n",
            "Zimbabwe 116k\n"
          ]
        }
      ]
    },
    {
      "cell_type": "markdown",
      "metadata": {
        "id": "KRJW1r-j5zFC"
      },
      "source": [
        "##**Alterando o formato do dataFrame com pd.melt**\n",
        ">Alterado para que o nome das colunas não seja o ano, pois não conseguí fazer pesquisa no dataFrame com o nome de coluna sendo um número."
      ]
    },
    {
      "cell_type": "code",
      "metadata": {
        "colab": {
          "base_uri": "https://localhost:8080/"
        },
        "id": "LEF9x1knlqTP",
        "outputId": "e30f7581-a882-4436-f784-dc6eb008d7e3"
      },
      "source": [
        "df2 = pd.melt(PT, id_vars=['country'], var_name ='Year', value_name ='Value')\n",
        "\n",
        "df2.dtypes\n",
        "\n",
        "#df2  = df2[ df2.Year == '2015' ]"
      ],
      "execution_count": null,
      "outputs": [
        {
          "output_type": "execute_result",
          "data": {
            "text/plain": [
              "country    object\n",
              "Year       object\n",
              "Value      object\n",
              "dtype: object"
            ]
          },
          "metadata": {},
          "execution_count": 17
        }
      ]
    },
    {
      "cell_type": "markdown",
      "metadata": {
        "id": "9Y6hQYBb6SR4"
      },
      "source": [
        "##**Informações do dataFrame com pd.melt**"
      ]
    },
    {
      "cell_type": "code",
      "metadata": {
        "colab": {
          "base_uri": "https://localhost:8080/",
          "height": 1000
        },
        "id": "5BVHiwLy6W-5",
        "outputId": "425bc678-69c2-45c5-9f48-3f85778efc59"
      },
      "source": [
        "print(\"\\033[1mFormato do arquivo:\\033[0m\")\n",
        "display(df2.shape)\n",
        "print('-----------------------------------------------')\n",
        "print(\"\\033[1mInício do arquivo:\\033[0m\")\n",
        "display(df2.head())\n",
        "print('-----------------------------------------------')\n",
        "print(\"\\033[1mFim do arquivo:\\033[0m\")\n",
        "display(df2.tail())\n",
        "print('-----------------------------------------------')\n",
        "print(\"\\033[1mValue Count - Países:\\033[0m\")\n",
        "display(df2.country.value_counts())\n",
        "print('-----------------------------------------------')\n",
        "print(\"\\033[1mPrimeiro e último país:\\033[0m\")\n",
        "display(df2.country.min(),df2.country.max())\n",
        "#print('-----------------------------------------------')\n",
        "#print(\"\\033[1mMenor e maior valor:\\033[0m\")\n",
        "#print('-----------------------------------------------')\n",
        "#display(df2.Value.min(),df2.Value.max())\n",
        "print('-----------------------------------------------')\n",
        "print(\"\\033[1mTipos de dados das colunas:\\033[0m\")\n",
        "display(df2.dtypes)\n",
        "print('-----------------------------------------------')\n",
        "print(\"\\033[1mNomes das colunas:\\033[0m\")\n",
        "print(df2.columns.values)\n",
        "print('-----------------------------------------------')\n",
        "print('\\033[1mSoma dos nulos\\033[0m')\n",
        "print(df2.isnull().sum())\n",
        "print('-----------------------------------------------')\n",
        "print('\\033[1mSoma dos não-nulos\\033[0m')\n",
        "print(df2.notnull().sum())\n",
        "print('-----------------------------------------------')\n",
        "print('\\033[1mDescribe\\033[0m')\n",
        "print(df2.describe())"
      ],
      "execution_count": null,
      "outputs": [
        {
          "output_type": "stream",
          "name": "stdout",
          "text": [
            "\u001b[1mFormato do arquivo:\u001b[0m\n"
          ]
        },
        {
          "output_type": "display_data",
          "data": {
            "text/plain": [
              "(2964, 3)"
            ]
          },
          "metadata": {}
        },
        {
          "output_type": "stream",
          "name": "stdout",
          "text": [
            "-----------------------------------------------\n",
            "\u001b[1mInício do arquivo:\u001b[0m\n"
          ]
        },
        {
          "output_type": "display_data",
          "data": {
            "text/html": [
              "<div>\n",
              "<style scoped>\n",
              "    .dataframe tbody tr th:only-of-type {\n",
              "        vertical-align: middle;\n",
              "    }\n",
              "\n",
              "    .dataframe tbody tr th {\n",
              "        vertical-align: top;\n",
              "    }\n",
              "\n",
              "    .dataframe thead th {\n",
              "        text-align: right;\n",
              "    }\n",
              "</style>\n",
              "<table border=\"1\" class=\"dataframe\">\n",
              "  <thead>\n",
              "    <tr style=\"text-align: right;\">\n",
              "      <th></th>\n",
              "      <th>country</th>\n",
              "      <th>Year</th>\n",
              "      <th>Value</th>\n",
              "    </tr>\n",
              "  </thead>\n",
              "  <tbody>\n",
              "    <tr>\n",
              "      <th>0</th>\n",
              "      <td>Aruba</td>\n",
              "      <td>1983</td>\n",
              "      <td>NaN</td>\n",
              "    </tr>\n",
              "    <tr>\n",
              "      <th>1</th>\n",
              "      <td>Albania</td>\n",
              "      <td>1983</td>\n",
              "      <td>NaN</td>\n",
              "    </tr>\n",
              "    <tr>\n",
              "      <th>2</th>\n",
              "      <td>United Arab Emirates</td>\n",
              "      <td>1983</td>\n",
              "      <td>NaN</td>\n",
              "    </tr>\n",
              "    <tr>\n",
              "      <th>3</th>\n",
              "      <td>Argentina</td>\n",
              "      <td>1983</td>\n",
              "      <td>3840</td>\n",
              "    </tr>\n",
              "    <tr>\n",
              "      <th>4</th>\n",
              "      <td>Armenia</td>\n",
              "      <td>1983</td>\n",
              "      <td>NaN</td>\n",
              "    </tr>\n",
              "  </tbody>\n",
              "</table>\n",
              "</div>"
            ],
            "text/plain": [
              "                country  Year Value\n",
              "0                 Aruba  1983   NaN\n",
              "1               Albania  1983   NaN\n",
              "2  United Arab Emirates  1983   NaN\n",
              "3             Argentina  1983  3840\n",
              "4               Armenia  1983   NaN"
            ]
          },
          "metadata": {}
        },
        {
          "output_type": "stream",
          "name": "stdout",
          "text": [
            "-----------------------------------------------\n",
            "\u001b[1mFim do arquivo:\u001b[0m\n"
          ]
        },
        {
          "output_type": "display_data",
          "data": {
            "text/html": [
              "<div>\n",
              "<style scoped>\n",
              "    .dataframe tbody tr th:only-of-type {\n",
              "        vertical-align: middle;\n",
              "    }\n",
              "\n",
              "    .dataframe tbody tr th {\n",
              "        vertical-align: top;\n",
              "    }\n",
              "\n",
              "    .dataframe thead th {\n",
              "        text-align: right;\n",
              "    }\n",
              "</style>\n",
              "<table border=\"1\" class=\"dataframe\">\n",
              "  <thead>\n",
              "    <tr style=\"text-align: right;\">\n",
              "      <th></th>\n",
              "      <th>country</th>\n",
              "      <th>Year</th>\n",
              "      <th>Value</th>\n",
              "    </tr>\n",
              "  </thead>\n",
              "  <tbody>\n",
              "    <tr>\n",
              "      <th>2959</th>\n",
              "      <td>Samoa</td>\n",
              "      <td>2001</td>\n",
              "      <td>NaN</td>\n",
              "    </tr>\n",
              "    <tr>\n",
              "      <th>2960</th>\n",
              "      <td>Yugoslavia</td>\n",
              "      <td>2001</td>\n",
              "      <td>NaN</td>\n",
              "    </tr>\n",
              "    <tr>\n",
              "      <th>2961</th>\n",
              "      <td>South Africa</td>\n",
              "      <td>2001</td>\n",
              "      <td>90.7k</td>\n",
              "    </tr>\n",
              "    <tr>\n",
              "      <th>2962</th>\n",
              "      <td>Zambia</td>\n",
              "      <td>2001</td>\n",
              "      <td>158k</td>\n",
              "    </tr>\n",
              "    <tr>\n",
              "      <th>2963</th>\n",
              "      <td>Zimbabwe</td>\n",
              "      <td>2001</td>\n",
              "      <td>178k</td>\n",
              "    </tr>\n",
              "  </tbody>\n",
              "</table>\n",
              "</div>"
            ],
            "text/plain": [
              "           country  Year  Value\n",
              "2959         Samoa  2001    NaN\n",
              "2960    Yugoslavia  2001    NaN\n",
              "2961  South Africa  2001  90.7k\n",
              "2962        Zambia  2001   158k\n",
              "2963      Zimbabwe  2001   178k"
            ]
          },
          "metadata": {}
        },
        {
          "output_type": "stream",
          "name": "stdout",
          "text": [
            "-----------------------------------------------\n",
            "\u001b[1mValue Count - Países:\u001b[0m\n"
          ]
        },
        {
          "output_type": "display_data",
          "data": {
            "text/plain": [
              "Estonia           19\n",
              "Slovenia          19\n",
              "Malaysia          19\n",
              "Iceland           19\n",
              "Cuba              19\n",
              "                  ..\n",
              "Czech Republic    19\n",
              "Madagascar        19\n",
              "Seychelles        19\n",
              "Bangladesh        19\n",
              "Honduras          19\n",
              "Name: country, Length: 156, dtype: int64"
            ]
          },
          "metadata": {}
        },
        {
          "output_type": "stream",
          "name": "stdout",
          "text": [
            "-----------------------------------------------\n",
            "\u001b[1mPrimeiro e último país:\u001b[0m\n"
          ]
        },
        {
          "output_type": "display_data",
          "data": {
            "application/vnd.google.colaboratory.intrinsic+json": {
              "type": "string"
            },
            "text/plain": [
              "'Albania'"
            ]
          },
          "metadata": {}
        },
        {
          "output_type": "display_data",
          "data": {
            "application/vnd.google.colaboratory.intrinsic+json": {
              "type": "string"
            },
            "text/plain": [
              "'Zimbabwe'"
            ]
          },
          "metadata": {}
        },
        {
          "output_type": "stream",
          "name": "stdout",
          "text": [
            "-----------------------------------------------\n",
            "\u001b[1mTipos de dados das colunas:\u001b[0m\n"
          ]
        },
        {
          "output_type": "display_data",
          "data": {
            "text/plain": [
              "country    object\n",
              "Year       object\n",
              "Value      object\n",
              "dtype: object"
            ]
          },
          "metadata": {}
        },
        {
          "output_type": "stream",
          "name": "stdout",
          "text": [
            "-----------------------------------------------\n",
            "\u001b[1mNomes das colunas:\u001b[0m\n",
            "['country' 'Year' 'Value']\n",
            "-----------------------------------------------\n",
            "\u001b[1mSoma dos nulos\u001b[0m\n",
            "country       0\n",
            "Year          0\n",
            "Value      1043\n",
            "dtype: int64\n",
            "-----------------------------------------------\n",
            "\u001b[1mSoma dos não-nulos\u001b[0m\n",
            "country    2964\n",
            "Year       2964\n",
            "Value      1921\n",
            "dtype: int64\n",
            "-----------------------------------------------\n",
            "\u001b[1mDescribe\u001b[0m\n",
            "        country  Year Value\n",
            "count      2964  2964  1921\n",
            "unique      156    19  1172\n",
            "top     Estonia  2001     2\n",
            "freq         19   156    14\n"
          ]
        }
      ]
    },
    {
      "cell_type": "markdown",
      "metadata": {
        "id": "ZK4_1qoNOWrF"
      },
      "source": [
        "##**Conversão da string 17.4k (17.400) em número (int)**"
      ]
    },
    {
      "cell_type": "code",
      "metadata": {
        "id": "nJ6IWlMiMQQw"
      },
      "source": [
        "# https://stackoverflow.com/questions/39684548/convert-the-string-2-90k-to-2900-or-5-2m-to-5200000-in-pandas-dataframe\n",
        "df2.Value = (df2.Value.replace(r'[kM]+$', '', regex=True).astype(float) * \\\n",
        "          df2.Value.str.extract(r'[\\d\\.]+([kM]+)', expand=False)\n",
        "          .fillna(1)\n",
        "          .replace(['k','M'], [10**3, 10**6]).astype(int))"
      ],
      "execution_count": null,
      "outputs": []
    },
    {
      "cell_type": "code",
      "metadata": {
        "colab": {
          "base_uri": "https://localhost:8080/",
          "height": 1000
        },
        "id": "2mvfZ_oGPhDH",
        "outputId": "b8b5c19d-9ccd-4a87-ebbc-7860a7e63c63"
      },
      "source": [
        "print(\"\\033[1mFormato do arquivo:\\033[0m\")\n",
        "display(df2.shape)\n",
        "print('-----------------------------------------------')\n",
        "print(\"\\033[1mInício do arquivo:\\033[0m\")\n",
        "display(df2.head())\n",
        "print('-----------------------------------------------')\n",
        "print(\"\\033[1mFim do arquivo:\\033[0m\")\n",
        "display(df2.tail())\n",
        "print('-----------------------------------------------')\n",
        "print(\"\\033[1mValue Count - Países:\\033[0m\")\n",
        "display(df2.country.value_counts())\n",
        "print('-----------------------------------------------')\n",
        "print(\"\\033[1mPrimeiro e último país:\\033[0m\")\n",
        "display(df2.country.min(),df2.country.max())\n",
        "print('-----------------------------------------------')\n",
        "print(\"\\033[1mMenor e maior valor:\\033[0m\")\n",
        "print('-----------------------------------------------')\n",
        "display(df2.Value.min(),df2.Value.max())\n",
        "print('-----------------------------------------------')\n",
        "print(\"\\033[1mTipos de dados das colunas:\\033[0m\")\n",
        "display(df2.dtypes)\n",
        "print('-----------------------------------------------')\n",
        "print(\"\\033[1mNomes das colunas:\\033[0m\")\n",
        "print(df2.columns.values)\n",
        "print('-----------------------------------------------')\n",
        "print('\\033[1mSoma dos nulos\\033[0m')\n",
        "print(df2.isnull().sum())\n",
        "print('-----------------------------------------------')\n",
        "print('\\033[1mSoma dos não-nulos\\033[0m')\n",
        "print(df2.notnull().sum())\n",
        "print('-----------------------------------------------')\n",
        "print('\\033[1mDescribe\\033[0m')\n",
        "print(df2.describe())"
      ],
      "execution_count": null,
      "outputs": [
        {
          "output_type": "stream",
          "name": "stdout",
          "text": [
            "\u001b[1mFormato do arquivo:\u001b[0m\n"
          ]
        },
        {
          "output_type": "display_data",
          "data": {
            "text/plain": [
              "(2964, 3)"
            ]
          },
          "metadata": {}
        },
        {
          "output_type": "stream",
          "name": "stdout",
          "text": [
            "-----------------------------------------------\n",
            "\u001b[1mInício do arquivo:\u001b[0m\n"
          ]
        },
        {
          "output_type": "display_data",
          "data": {
            "text/html": [
              "<div>\n",
              "<style scoped>\n",
              "    .dataframe tbody tr th:only-of-type {\n",
              "        vertical-align: middle;\n",
              "    }\n",
              "\n",
              "    .dataframe tbody tr th {\n",
              "        vertical-align: top;\n",
              "    }\n",
              "\n",
              "    .dataframe thead th {\n",
              "        text-align: right;\n",
              "    }\n",
              "</style>\n",
              "<table border=\"1\" class=\"dataframe\">\n",
              "  <thead>\n",
              "    <tr style=\"text-align: right;\">\n",
              "      <th></th>\n",
              "      <th>country</th>\n",
              "      <th>Year</th>\n",
              "      <th>Value</th>\n",
              "    </tr>\n",
              "  </thead>\n",
              "  <tbody>\n",
              "    <tr>\n",
              "      <th>0</th>\n",
              "      <td>Aruba</td>\n",
              "      <td>1983</td>\n",
              "      <td>NaN</td>\n",
              "    </tr>\n",
              "    <tr>\n",
              "      <th>1</th>\n",
              "      <td>Albania</td>\n",
              "      <td>1983</td>\n",
              "      <td>NaN</td>\n",
              "    </tr>\n",
              "    <tr>\n",
              "      <th>2</th>\n",
              "      <td>United Arab Emirates</td>\n",
              "      <td>1983</td>\n",
              "      <td>NaN</td>\n",
              "    </tr>\n",
              "    <tr>\n",
              "      <th>3</th>\n",
              "      <td>Argentina</td>\n",
              "      <td>1983</td>\n",
              "      <td>3840.0</td>\n",
              "    </tr>\n",
              "    <tr>\n",
              "      <th>4</th>\n",
              "      <td>Armenia</td>\n",
              "      <td>1983</td>\n",
              "      <td>NaN</td>\n",
              "    </tr>\n",
              "  </tbody>\n",
              "</table>\n",
              "</div>"
            ],
            "text/plain": [
              "                country  Year   Value\n",
              "0                 Aruba  1983     NaN\n",
              "1               Albania  1983     NaN\n",
              "2  United Arab Emirates  1983     NaN\n",
              "3             Argentina  1983  3840.0\n",
              "4               Armenia  1983     NaN"
            ]
          },
          "metadata": {}
        },
        {
          "output_type": "stream",
          "name": "stdout",
          "text": [
            "-----------------------------------------------\n",
            "\u001b[1mFim do arquivo:\u001b[0m\n"
          ]
        },
        {
          "output_type": "display_data",
          "data": {
            "text/html": [
              "<div>\n",
              "<style scoped>\n",
              "    .dataframe tbody tr th:only-of-type {\n",
              "        vertical-align: middle;\n",
              "    }\n",
              "\n",
              "    .dataframe tbody tr th {\n",
              "        vertical-align: top;\n",
              "    }\n",
              "\n",
              "    .dataframe thead th {\n",
              "        text-align: right;\n",
              "    }\n",
              "</style>\n",
              "<table border=\"1\" class=\"dataframe\">\n",
              "  <thead>\n",
              "    <tr style=\"text-align: right;\">\n",
              "      <th></th>\n",
              "      <th>country</th>\n",
              "      <th>Year</th>\n",
              "      <th>Value</th>\n",
              "    </tr>\n",
              "  </thead>\n",
              "  <tbody>\n",
              "    <tr>\n",
              "      <th>2959</th>\n",
              "      <td>Samoa</td>\n",
              "      <td>2001</td>\n",
              "      <td>NaN</td>\n",
              "    </tr>\n",
              "    <tr>\n",
              "      <th>2960</th>\n",
              "      <td>Yugoslavia</td>\n",
              "      <td>2001</td>\n",
              "      <td>NaN</td>\n",
              "    </tr>\n",
              "    <tr>\n",
              "      <th>2961</th>\n",
              "      <td>South Africa</td>\n",
              "      <td>2001</td>\n",
              "      <td>90700.0</td>\n",
              "    </tr>\n",
              "    <tr>\n",
              "      <th>2962</th>\n",
              "      <td>Zambia</td>\n",
              "      <td>2001</td>\n",
              "      <td>158000.0</td>\n",
              "    </tr>\n",
              "    <tr>\n",
              "      <th>2963</th>\n",
              "      <td>Zimbabwe</td>\n",
              "      <td>2001</td>\n",
              "      <td>178000.0</td>\n",
              "    </tr>\n",
              "  </tbody>\n",
              "</table>\n",
              "</div>"
            ],
            "text/plain": [
              "           country  Year     Value\n",
              "2959         Samoa  2001       NaN\n",
              "2960    Yugoslavia  2001       NaN\n",
              "2961  South Africa  2001   90700.0\n",
              "2962        Zambia  2001  158000.0\n",
              "2963      Zimbabwe  2001  178000.0"
            ]
          },
          "metadata": {}
        },
        {
          "output_type": "stream",
          "name": "stdout",
          "text": [
            "-----------------------------------------------\n",
            "\u001b[1mValue Count - Países:\u001b[0m\n"
          ]
        },
        {
          "output_type": "display_data",
          "data": {
            "text/plain": [
              "Estonia           19\n",
              "Slovenia          19\n",
              "Malaysia          19\n",
              "Iceland           19\n",
              "Cuba              19\n",
              "                  ..\n",
              "Czech Republic    19\n",
              "Madagascar        19\n",
              "Seychelles        19\n",
              "Bangladesh        19\n",
              "Honduras          19\n",
              "Name: country, Length: 156, dtype: int64"
            ]
          },
          "metadata": {}
        },
        {
          "output_type": "stream",
          "name": "stdout",
          "text": [
            "-----------------------------------------------\n",
            "\u001b[1mPrimeiro e último país:\u001b[0m\n"
          ]
        },
        {
          "output_type": "display_data",
          "data": {
            "application/vnd.google.colaboratory.intrinsic+json": {
              "type": "string"
            },
            "text/plain": [
              "'Albania'"
            ]
          },
          "metadata": {}
        },
        {
          "output_type": "display_data",
          "data": {
            "application/vnd.google.colaboratory.intrinsic+json": {
              "type": "string"
            },
            "text/plain": [
              "'Zimbabwe'"
            ]
          },
          "metadata": {}
        },
        {
          "output_type": "stream",
          "name": "stdout",
          "text": [
            "-----------------------------------------------\n",
            "\u001b[1mMenor e maior valor:\u001b[0m\n",
            "-----------------------------------------------\n"
          ]
        },
        {
          "output_type": "display_data",
          "data": {
            "text/plain": [
              "1.0"
            ]
          },
          "metadata": {}
        },
        {
          "output_type": "display_data",
          "data": {
            "text/plain": [
              "497000.0"
            ]
          },
          "metadata": {}
        },
        {
          "output_type": "stream",
          "name": "stdout",
          "text": [
            "-----------------------------------------------\n",
            "\u001b[1mTipos de dados das colunas:\u001b[0m\n"
          ]
        },
        {
          "output_type": "display_data",
          "data": {
            "text/plain": [
              "country     object\n",
              "Year        object\n",
              "Value      float64\n",
              "dtype: object"
            ]
          },
          "metadata": {}
        },
        {
          "output_type": "stream",
          "name": "stdout",
          "text": [
            "-----------------------------------------------\n",
            "\u001b[1mNomes das colunas:\u001b[0m\n",
            "['country' 'Year' 'Value']\n",
            "-----------------------------------------------\n",
            "\u001b[1mSoma dos nulos\u001b[0m\n",
            "country       0\n",
            "Year          0\n",
            "Value      1043\n",
            "dtype: int64\n",
            "-----------------------------------------------\n",
            "\u001b[1mSoma dos não-nulos\u001b[0m\n",
            "country    2964\n",
            "Year       2964\n",
            "Value      1921\n",
            "dtype: int64\n",
            "-----------------------------------------------\n",
            "\u001b[1mDescribe\u001b[0m\n",
            "               Value\n",
            "count    1921.000000\n",
            "mean    39239.855804\n",
            "std     64739.647075\n",
            "min         1.000000\n",
            "25%       261.000000\n",
            "50%      8560.000000\n",
            "75%     53500.000000\n",
            "max    497000.000000\n"
          ]
        }
      ]
    },
    {
      "cell_type": "markdown",
      "metadata": {
        "id": "ISdbH07oimqT"
      },
      "source": [
        "##Questão: Demonstrar a evolução de pedidos de patentes no Brasil.\n",
        "\n",
        ">O gráfico demonstra evolução no número de pedidos de patentes a partir de 1990, quando a curva de subida se acentua. Quem lembra desse período da nossa história, poderá correlacionar como um dos fatores a abertura de mercado feita pelo ex-presidente Fernando Collor; sei que é especulação, pois o arquivo não contém dados para análise nesse sentido, mas foi um fato relevante para a economia no Brasil."
      ]
    },
    {
      "cell_type": "code",
      "metadata": {
        "colab": {
          "base_uri": "https://localhost:8080/",
          "height": 410
        },
        "id": "ZmnLKjQwAGg-",
        "outputId": "23b7f340-83cf-4144-cc36-57d48b650744"
      },
      "source": [
        "pais = ['Brazil']\n",
        "filtered_df2 = df2[df2.country.isin(pais)]\n",
        "\n",
        "fig, ax = plt.subplots(figsize=(14,6))\n",
        "\n",
        "#ax.plot(filtered_df2.Year, filtered_df2.Value, label = 'Brasil')\n",
        "ax.plot(filtered_df2.Year, filtered_df2.Value, label='BRASIL', color='b', alpha=0.5)\n",
        "\n",
        "ax.set_title('GAP MINDER - Número de pedidos de patentes - Brasil (Regressão a Intervalo Fixo)',\n",
        "fontsize=14, weight='bold')\n",
        "ax.set_xlabel(\"ANO\")\n",
        "ax.set_ylabel(\"PEDIDOS DE PATENTES\")\n",
        "\n",
        "ax.set_xlabel('Ano', color='red', fontsize=14)\n",
        "ax.set_ylabel('Pedidos de patentes', color='blue', fontsize=14)\n",
        "\n",
        "ax.legend(fontsize=12)\n",
        "\n",
        "plt.vlines(7.2,1000,80000, linestyle='dashed', color='r', linewidth=1)\n",
        "plt.text(7.3, 10000,'Plano Collor - Abertura de mercado', style='italic', color='dimgrey')\n",
        "\n",
        "\n",
        "import matplotlib.ticker as ticker\n",
        "ax.xaxis.set_major_locator(ticker.MaxNLocator(25))\n",
        "\n",
        "plt.show()\n"
      ],
      "execution_count": null,
      "outputs": [
        {
          "output_type": "display_data",
          "data": {
            "image/png": "[encoded data removed]",
            "text/plain": [
              "<Figure size 1008x432 with 1 Axes>"
            ]
          },
          "metadata": {
            "needs_background": "light"
          }
        }
      ]
    },
    {
      "cell_type": "markdown",
      "metadata": {
        "id": "X5A4l2KyquSP"
      },
      "source": [
        "##Questão: Demonstrar a evolução de pedidos de patentes em alguns países do mundo (Brasil, China, Estados Unidos)\n",
        "\n",
        ">Como eu disse no comentário anterior, foi em parte especulação correlacionar a abertura de mercado em 1990 ao aumento no pedido de patentes no Brasil. Em 1989 houve a queda do muro de Berlim, encerrando um período da Guerra Fria. Quanto dessas patentes eram simplesmente o registro de algo já patenteado em outros países visando proteção de marca/produto no ordenamento jurídico brasileiro e o quanto era inovação, os dados não permitem ver."
      ]
    },
    {
      "cell_type": "code",
      "metadata": {
        "colab": {
          "base_uri": "https://localhost:8080/",
          "height": 409
        },
        "id": "plxbksTcrGc_",
        "outputId": "58337f57-a5db-4bdb-f14d-abf6745b9c85"
      },
      "source": [
        "USA = ['United States']\n",
        "CH = ['China']\n",
        "filtered_USA = df2[df2.country.isin(USA)]\n",
        "filtered_CH = df2[df2.country.isin(CH)]\n",
        "\n",
        "fig, ax = plt.subplots(figsize=(14,6))\n",
        "ax.plot(filtered_df2.Year, filtered_df2.Value, label='BRASIL', color='b', alpha=0.5)\n",
        "ax.plot(filtered_USA.Year, filtered_USA.Value, label='ESTADOS UNIDOS', color='r', alpha=0.5)\n",
        "\n",
        "ax.plot(filtered_CH.Year, filtered_CH.Value, label='CHINA', color='m', alpha=0.5)\n",
        "\n",
        "ax.set_title('GAP MINDER - IDEA - Pedidos de patentes (Regressão a Intervalo Fixo) - Brasil, Estados Unidos e China', fontsize=14, weight='bold')\n",
        "ax.set_xlabel(\"Ano\", color='red', fontsize=14)\n",
        "ax.set_ylabel(\"Pedidos de patentes\", color='blue', fontsize=14)\n",
        "\n",
        "ax.legend(loc='upper left', fontsize=12)\n",
        "#ax2.legend(fontsize=12)\n",
        "plt.vlines(7.2,1000,300000, linestyle='dashed', color='r', linewidth=1)\n",
        "plt.text(7.3, 55000,'Plano Collor - Abertura de mercado', style='italic', color='dimgrey')\n",
        "\n",
        "plt.vlines(5.6,1000,300000, linestyle='dashed', color='g', linewidth=1)\n",
        "plt.text(5.7, 90000,'Queda do muro de Berlim', style='italic', color='dimgrey')\n",
        "\n",
        "\n",
        "import matplotlib.ticker as ticker\n",
        "ax.xaxis.set_major_locator(ticker.MaxNLocator(25))\n",
        "\n",
        "plt.show()\n"
      ],
      "execution_count": null,
      "outputs": [
        {
          "output_type": "display_data",
          "data": {
            "image/png": "[encoded data removed]",
            "text/plain": [
              "<Figure size 1008x432 with 1 Axes>"
            ]
          },
          "metadata": {
            "needs_background": "light"
          }
        }
      ]
    },
    {
      "cell_type": "markdown",
      "metadata": {
        "id": "OxVREjVZ8dj5"
      },
      "source": [
        "##**Análise pontual - ano de 1999**\n",
        ">Como há anos em que não há medição em alguns países, optei pelo ano de 1999, que é o ano com menos nulos.\n"
      ]
    },
    {
      "cell_type": "markdown",
      "metadata": {
        "id": "5HRsN8DCwoXT"
      },
      "source": [
        "##**Qual é o país com o maior número de patentes e qual a posição do Brasil?**"
      ]
    },
    {
      "cell_type": "code",
      "metadata": {
        "colab": {
          "base_uri": "https://localhost:8080/",
          "height": 363
        },
        "id": "enXQaIYTxstZ",
        "outputId": "9228fa80-dcb8-4fb6-e4a0-b74386b7aba0"
      },
      "source": [
        "df3 = df2[ df2.Year == '1999']\n",
        "df3.head()\n",
        "valor = df2.Value.mean()\n",
        "print(valor)\n",
        "\n",
        "plt.figure(figsize=(24,6))\n",
        "#sns.barplot(x='country', y='Value', data=df2[ (df2.Value > df2.Value.mean() ) ])\n",
        "sns.barplot(x='country', y='Value', data=df3[ (df3.Value > 100000 ) ])\n",
        "plt.title('Países com mais de 100.000 pedidos de patentes / ano', fontsize=40,\n",
        "          color=\"black\")\n",
        "\n",
        "plt.xlabel('País', color='black', fontsize=20)\n",
        "plt.ylabel('Pedidos de patentes', color='black', fontsize=20)\n",
        "\n",
        "plt.xticks(rotation=80)\n",
        "plt.ylim([10000,500000])\n",
        "plt.show()"
      ],
      "execution_count": null,
      "outputs": [
        {
          "output_type": "stream",
          "name": "stdout",
          "text": [
            "39239.85580426861\n"
          ]
        },
        {
          "output_type": "display_data",
          "data": {
            "image/png": "[encoded data removed]",
            "text/plain": [
              "<Figure size 1728x432 with 1 Axes>"
            ]
          },
          "metadata": {
            "needs_background": "light"
          }
        }
      ]
    },
    {
      "cell_type": "code",
      "metadata": {
        "colab": {
          "base_uri": "https://localhost:8080/",
          "height": 79
        },
        "id": "byqNP1s4DQMT",
        "outputId": "90205cbe-0de8-4894-84e8-abaf2d94861a"
      },
      "source": [
        "df3Posição = pd.DataFrame( df3[['country','Value']].sort_values('Value', ascending=False) ).reset_index(drop=True)\n",
        "df3Posição[df3Posição.country == 'Brazil']"
      ],
      "execution_count": null,
      "outputs": [
        {
          "output_type": "execute_result",
          "data": {
            "text/html": [
              "<div>\n",
              "<style scoped>\n",
              "    .dataframe tbody tr th:only-of-type {\n",
              "        vertical-align: middle;\n",
              "    }\n",
              "\n",
              "    .dataframe tbody tr th {\n",
              "        vertical-align: top;\n",
              "    }\n",
              "\n",
              "    .dataframe thead th {\n",
              "        text-align: right;\n",
              "    }\n",
              "</style>\n",
              "<table border=\"1\" class=\"dataframe\">\n",
              "  <thead>\n",
              "    <tr style=\"text-align: right;\">\n",
              "      <th></th>\n",
              "      <th>country</th>\n",
              "      <th>Value</th>\n",
              "    </tr>\n",
              "  </thead>\n",
              "  <tbody>\n",
              "    <tr>\n",
              "      <th>49</th>\n",
              "      <td>Brazil</td>\n",
              "      <td>64700.0</td>\n",
              "    </tr>\n",
              "  </tbody>\n",
              "</table>\n",
              "</div>"
            ],
            "text/plain": [
              "   country    Value\n",
              "49  Brazil  64700.0"
            ]
          },
          "metadata": {},
          "execution_count": 23
        }
      ]
    },
    {
      "cell_type": "markdown",
      "metadata": {
        "id": "oIAL4MQq8KTt"
      },
      "source": [
        "##**10 países com maior número de pedidos de patentes**"
      ]
    },
    {
      "cell_type": "code",
      "metadata": {
        "colab": {
          "base_uri": "https://localhost:8080/",
          "height": 356
        },
        "id": "stwmaxNP5mkL",
        "outputId": "32a2f13f-f58f-4e19-824a-b00d64bed637"
      },
      "source": [
        "df3.loc[df3.Value.nlargest(10).index]"
      ],
      "execution_count": null,
      "outputs": [
        {
          "output_type": "execute_result",
          "data": {
            "text/html": [
              "<div>\n",
              "<style scoped>\n",
              "    .dataframe tbody tr th:only-of-type {\n",
              "        vertical-align: middle;\n",
              "    }\n",
              "\n",
              "    .dataframe tbody tr th {\n",
              "        vertical-align: top;\n",
              "    }\n",
              "\n",
              "    .dataframe thead th {\n",
              "        text-align: right;\n",
              "    }\n",
              "</style>\n",
              "<table border=\"1\" class=\"dataframe\">\n",
              "  <thead>\n",
              "    <tr style=\"text-align: right;\">\n",
              "      <th></th>\n",
              "      <th>country</th>\n",
              "      <th>Year</th>\n",
              "      <th>Value</th>\n",
              "    </tr>\n",
              "  </thead>\n",
              "  <tbody>\n",
              "    <tr>\n",
              "      <th>2568</th>\n",
              "      <td>Japan</td>\n",
              "      <td>1999</td>\n",
              "      <td>486000.0</td>\n",
              "    </tr>\n",
              "    <tr>\n",
              "      <th>2641</th>\n",
              "      <td>United States</td>\n",
              "      <td>1999</td>\n",
              "      <td>332000.0</td>\n",
              "    </tr>\n",
              "    <tr>\n",
              "      <th>2530</th>\n",
              "      <td>Germany</td>\n",
              "      <td>1999</td>\n",
              "      <td>263000.0</td>\n",
              "    </tr>\n",
              "    <tr>\n",
              "      <th>2545</th>\n",
              "      <td>United Kingdom</td>\n",
              "      <td>1999</td>\n",
              "      <td>233000.0</td>\n",
              "    </tr>\n",
              "    <tr>\n",
              "      <th>2627</th>\n",
              "      <td>Sweden</td>\n",
              "      <td>1999</td>\n",
              "      <td>204000.0</td>\n",
              "    </tr>\n",
              "    <tr>\n",
              "      <th>2520</th>\n",
              "      <td>Switzerland</td>\n",
              "      <td>1999</td>\n",
              "      <td>202000.0</td>\n",
              "    </tr>\n",
              "    <tr>\n",
              "      <th>2539</th>\n",
              "      <td>Spain</td>\n",
              "      <td>1999</td>\n",
              "      <td>202000.0</td>\n",
              "    </tr>\n",
              "    <tr>\n",
              "      <th>2503</th>\n",
              "      <td>Austria</td>\n",
              "      <td>1999</td>\n",
              "      <td>201000.0</td>\n",
              "    </tr>\n",
              "    <tr>\n",
              "      <th>2534</th>\n",
              "      <td>Denmark</td>\n",
              "      <td>1999</td>\n",
              "      <td>201000.0</td>\n",
              "    </tr>\n",
              "    <tr>\n",
              "      <th>2582</th>\n",
              "      <td>Luxembourg</td>\n",
              "      <td>1999</td>\n",
              "      <td>199000.0</td>\n",
              "    </tr>\n",
              "  </tbody>\n",
              "</table>\n",
              "</div>"
            ],
            "text/plain": [
              "             country  Year     Value\n",
              "2568           Japan  1999  486000.0\n",
              "2641   United States  1999  332000.0\n",
              "2530         Germany  1999  263000.0\n",
              "2545  United Kingdom  1999  233000.0\n",
              "2627          Sweden  1999  204000.0\n",
              "2520     Switzerland  1999  202000.0\n",
              "2539           Spain  1999  202000.0\n",
              "2503         Austria  1999  201000.0\n",
              "2534         Denmark  1999  201000.0\n",
              "2582      Luxembourg  1999  199000.0"
            ]
          },
          "metadata": {},
          "execution_count": 24
        }
      ]
    },
    {
      "cell_type": "markdown",
      "metadata": {
        "id": "bQvs49jJtYaO"
      },
      "source": [
        "##Comentário sobre os 10 mais e 10 menos\n",
        ">Os dados não permitem qualquer afirmação específica. Mas, de acordo com o senso comum, basta seguir o dinheiro."
      ]
    },
    {
      "cell_type": "markdown",
      "metadata": {
        "id": "b4dOkNce8YoS"
      },
      "source": [
        "##**10 países com menor número de pedidos de patentes**\n",
        "\n"
      ]
    },
    {
      "cell_type": "code",
      "metadata": {
        "id": "JTv8VsPc0_tE",
        "colab": {
          "base_uri": "https://localhost:8080/",
          "height": 356
        },
        "outputId": "90a79d90-2402-46f4-c6a9-dfcbcc102df4"
      },
      "source": [
        "df3.loc[df3.Value.nsmallest(10).index]"
      ],
      "execution_count": null,
      "outputs": [
        {
          "output_type": "execute_result",
          "data": {
            "text/html": [
              "<div>\n",
              "<style scoped>\n",
              "    .dataframe tbody tr th:only-of-type {\n",
              "        vertical-align: middle;\n",
              "    }\n",
              "\n",
              "    .dataframe tbody tr th {\n",
              "        vertical-align: top;\n",
              "    }\n",
              "\n",
              "    .dataframe thead th {\n",
              "        text-align: right;\n",
              "    }\n",
              "</style>\n",
              "<table border=\"1\" class=\"dataframe\">\n",
              "  <thead>\n",
              "    <tr style=\"text-align: right;\">\n",
              "      <th></th>\n",
              "      <th>country</th>\n",
              "      <th>Year</th>\n",
              "      <th>Value</th>\n",
              "    </tr>\n",
              "  </thead>\n",
              "  <tbody>\n",
              "    <tr>\n",
              "      <th>2644</th>\n",
              "      <td>St. Vincent and the Grenadines</td>\n",
              "      <td>1999</td>\n",
              "      <td>2.0</td>\n",
              "    </tr>\n",
              "    <tr>\n",
              "      <th>2541</th>\n",
              "      <td>Ethiopia</td>\n",
              "      <td>1999</td>\n",
              "      <td>7.0</td>\n",
              "    </tr>\n",
              "    <tr>\n",
              "      <th>2650</th>\n",
              "      <td>Zambia</td>\n",
              "      <td>1999</td>\n",
              "      <td>10.0</td>\n",
              "    </tr>\n",
              "    <tr>\n",
              "      <th>2537</th>\n",
              "      <td>Ecuador</td>\n",
              "      <td>1999</td>\n",
              "      <td>11.0</td>\n",
              "    </tr>\n",
              "    <tr>\n",
              "      <th>2518</th>\n",
              "      <td>Botswana</td>\n",
              "      <td>1999</td>\n",
              "      <td>15.0</td>\n",
              "    </tr>\n",
              "    <tr>\n",
              "      <th>2567</th>\n",
              "      <td>Jamaica</td>\n",
              "      <td>1999</td>\n",
              "      <td>101.0</td>\n",
              "    </tr>\n",
              "    <tr>\n",
              "      <th>2574</th>\n",
              "      <td>Lebanon</td>\n",
              "      <td>1999</td>\n",
              "      <td>104.0</td>\n",
              "    </tr>\n",
              "    <tr>\n",
              "      <th>2591</th>\n",
              "      <td>Malta</td>\n",
              "      <td>1999</td>\n",
              "      <td>116.0</td>\n",
              "    </tr>\n",
              "    <tr>\n",
              "      <th>2555</th>\n",
              "      <td>Honduras</td>\n",
              "      <td>1999</td>\n",
              "      <td>139.0</td>\n",
              "    </tr>\n",
              "    <tr>\n",
              "      <th>2599</th>\n",
              "      <td>Nicaragua</td>\n",
              "      <td>1999</td>\n",
              "      <td>143.0</td>\n",
              "    </tr>\n",
              "  </tbody>\n",
              "</table>\n",
              "</div>"
            ],
            "text/plain": [
              "                             country  Year  Value\n",
              "2644  St. Vincent and the Grenadines  1999    2.0\n",
              "2541                        Ethiopia  1999    7.0\n",
              "2650                          Zambia  1999   10.0\n",
              "2537                         Ecuador  1999   11.0\n",
              "2518                        Botswana  1999   15.0\n",
              "2567                         Jamaica  1999  101.0\n",
              "2574                         Lebanon  1999  104.0\n",
              "2591                           Malta  1999  116.0\n",
              "2555                        Honduras  1999  139.0\n",
              "2599                       Nicaragua  1999  143.0"
            ]
          },
          "metadata": {},
          "execution_count": 25
        }
      ]
    },
    {
      "cell_type": "markdown",
      "metadata": {
        "id": "R37Wpg7tAMyL"
      },
      "source": [
        "##**Outliers - Baseado no dataframe df2**"
      ]
    },
    {
      "cell_type": "code",
      "metadata": {
        "colab": {
          "base_uri": "https://localhost:8080/",
          "height": 281
        },
        "id": "hhwL-tDcDAP5",
        "outputId": "e746e8f2-6c8a-47e9-ab43-806cc240beea"
      },
      "source": [
        "df2_not_null = df2[ ~ np.isnan( df2.Value)]\n",
        "\n",
        "plt.figure(figsize=(12,4))\n",
        "plt.boxplot(df2_not_null[df2_not_null.country == 'Brazil'].Value,positions=[1])\n",
        "plt.boxplot(df2_not_null.Value,positions=[2])\n",
        "plt.title('Patent Distributions')\n",
        "plt.xticks(ticks=[1,2], labels=['Brazil','World'])\n",
        "plt.show()"
      ],
      "execution_count": null,
      "outputs": [
        {
          "output_type": "display_data",
          "data": {
            "image/png": "[encoded data removed]",
            "text/plain": [
              "<Figure size 864x288 with 1 Axes>"
            ]
          },
          "metadata": {
            "needs_background": "light"
          }
        }
      ]
    },
    {
      "cell_type": "code",
      "metadata": {
        "colab": {
          "base_uri": "https://localhost:8080/",
          "height": 281
        },
        "id": "QY01QX4YDNmb",
        "outputId": "a7a2ab49-1b39-4871-ede6-5fce4ad5a1f4"
      },
      "source": [
        "df2_not_null = df2[ ~ np.isnan( df2.Value)]\n",
        "\n",
        "plt.figure(figsize=(12,4))\n",
        "plt.boxplot(df2_not_null[df2_not_null.country == 'Brazil'].Value,positions=[1])\n",
        "plt.boxplot(df2_not_null[df2_not_null.country == 'United States'].Value,positions=[2])\n",
        "plt.boxplot(df2_not_null[df2_not_null.country == 'China'].Value,positions=[3])\n",
        "plt.boxplot(df2_not_null.Value,positions=[4])\n",
        "plt.title('Patent Distributions')\n",
        "plt.xticks(ticks=[1,2,3,4], labels=['Brazil','USA', 'China', 'World'])\n",
        "plt.show()"
      ],
      "execution_count": null,
      "outputs": [
        {
          "output_type": "display_data",
          "data": {
            "image/png": "[encoded data removed]",
            "text/plain": [
              "<Figure size 864x288 with 1 Axes>"
            ]
          },
          "metadata": {
            "needs_background": "light"
          }
        }
      ]
    }
  ]
}