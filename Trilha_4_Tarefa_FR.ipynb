{
  "nbformat": 4,
  "nbformat_minor": 0,
  "metadata": {
    "colab": {
      "name": "Trilha_4_Tarefa-FR.ipynb",
      "provenance": [],
      "collapsed_sections": [],
      "authorship_tag": "ABX9TyPdqjqThIpV25tKyVfjGCKD",
      "include_colab_link": true
    },
    "kernelspec": {
      "name": "python3",
      "display_name": "Python 3"
    },
    "language_info": {
      "name": "python"
    }
  },
  "cells": [
    {
      "cell_type": "markdown",
      "metadata": {
        "id": "view-in-github",
        "colab_type": "text"
      },
      "source": [
        "<a href=\"https://colab.research.google.com/github/MarcosTorres978/Atividades_Aprofundamento_PLP/blob/main/Trilha_4_Tarefa_FR.ipynb\" target=\"_parent\"><img src=\"https://colab.research.google.com/assets/colab-badge.svg\" alt=\"Open In Colab\"/></a>"
      ]
    },
    {
      "cell_type": "code",
      "metadata": {
        "id": "-sQD_AuCkWp8"
      },
      "source": [
        "import numpy as np\n",
        "import pandas as pd\n",
        "import matplotlib.pyplot as plt\n",
        "%matplotlib inline\n",
        "import seaborn as sns"
      ],
      "execution_count": null,
      "outputs": []
    },
    {
      "cell_type": "code",
      "metadata": {
        "id": "a1jTgIGsVqgY"
      },
      "source": [
        "FR = pd.read_csv('/content/freligion_idea.csv')"
      ],
      "execution_count": null,
      "outputs": []
    },
    {
      "cell_type": "code",
      "metadata": {
        "colab": {
          "base_uri": "https://localhost:8080/",
          "height": 3805
        },
        "id": "1yzpvjA4cQo7",
        "outputId": "f01ca3c8-81ce-4d58-d282-b1ae91832f33"
      },
      "source": [
        "print(\"\\033[1mFormato do arquivo:\\033[0m\")\n",
        "display(FR.shape)\n",
        "print('-----------------------------------------------')\n",
        "print(\"\\033[1mInício do arquivo:\\033[0m\")\n",
        "display(FR.head())\n",
        "print('-----------------------------------------------')\n",
        "print(\"\\033[1mFim do arquivo:\\033[0m\")\n",
        "display(FR.tail())\n",
        "print('-----------------------------------------------')\n",
        "print(\"\\033[1mValue Count - Países:\\033[0m\")\n",
        "display(FR.country.value_counts())\n",
        "print('-----------------------------------------------')\n",
        "print(\"\\033[1mPaíses duplicados:\\033[0m\")\n",
        "display(FR.country.duplicated().sum())\n",
        "print('-----------------------------------------------')\n",
        "print(\"\\033[1mPrimeiro e último país:\\033[0m\")\n",
        "display(FR.country.min(),FR.country.max())\n",
        "print('-----------------------------------------------')\n",
        "print(\"\\033[1mTipos de dados das colunas:\\033[0m\")\n",
        "display(FR.dtypes)\n",
        "print('-----------------------------------------------')\n",
        "print('\\033[1mSoma dos não-nulos\\033[0m')\n",
        "print(FR.notnull().sum())\n",
        "print('-----------------------------------------------')\n",
        "print('\\033[1mSoma dos nulos\\033[0m')\n",
        "print(FR.isnull().sum())\n",
        "print('-----------------------------------------------')\n",
        "print(\"\\033[1mNomes das colunas:\\033[0m\")\n",
        "print(FR.columns.values)\n",
        "print('-----------------------------------------------')\n",
        "print(\"\\033[1mDescribe do dataframe:\\033[0m\")\n",
        "print(FR.describe())\n",
        "print('-----------------------------------------------')\n",
        "print(\"\\033[1mColumns.values do data frame:\\033[0m\")\n",
        "\n",
        "print(FR.columns.values)"
      ],
      "execution_count": null,
      "outputs": [
        {
          "output_type": "stream",
          "name": "stdout",
          "text": [
            "\u001b[1mFormato do arquivo:\u001b[0m\n"
          ]
        },
        {
          "output_type": "display_data",
          "data": {
            "text/plain": [
              "(160, 46)"
            ]
          },
          "metadata": {}
        },
        {
          "output_type": "stream",
          "name": "stdout",
          "text": [
            "-----------------------------------------------\n",
            "\u001b[1mInício do arquivo:\u001b[0m\n"
          ]
        },
        {
          "output_type": "display_data",
          "data": {
            "text/html": [
              "<div>\n",
              "<style scoped>\n",
              "    .dataframe tbody tr th:only-of-type {\n",
              "        vertical-align: middle;\n",
              "    }\n",
              "\n",
              "    .dataframe tbody tr th {\n",
              "        vertical-align: top;\n",
              "    }\n",
              "\n",
              "    .dataframe thead th {\n",
              "        text-align: right;\n",
              "    }\n",
              "</style>\n",
              "<table border=\"1\" class=\"dataframe\">\n",
              "  <thead>\n",
              "    <tr style=\"text-align: right;\">\n",
              "      <th></th>\n",
              "      <th>country</th>\n",
              "      <th>1974</th>\n",
              "      <th>1975</th>\n",
              "      <th>1976</th>\n",
              "      <th>1977</th>\n",
              "      <th>1978</th>\n",
              "      <th>1979</th>\n",
              "      <th>1980</th>\n",
              "      <th>1981</th>\n",
              "      <th>1982</th>\n",
              "      <th>1983</th>\n",
              "      <th>1984</th>\n",
              "      <th>1985</th>\n",
              "      <th>1986</th>\n",
              "      <th>1987</th>\n",
              "      <th>1988</th>\n",
              "      <th>1989</th>\n",
              "      <th>1990</th>\n",
              "      <th>1991</th>\n",
              "      <th>1992</th>\n",
              "      <th>1993</th>\n",
              "      <th>1994</th>\n",
              "      <th>1995</th>\n",
              "      <th>1996</th>\n",
              "      <th>1997</th>\n",
              "      <th>1998</th>\n",
              "      <th>1999</th>\n",
              "      <th>2000</th>\n",
              "      <th>2001</th>\n",
              "      <th>2002</th>\n",
              "      <th>2003</th>\n",
              "      <th>2004</th>\n",
              "      <th>2005</th>\n",
              "      <th>2006</th>\n",
              "      <th>2007</th>\n",
              "      <th>2008</th>\n",
              "      <th>2009</th>\n",
              "      <th>2010</th>\n",
              "      <th>2011</th>\n",
              "      <th>2012</th>\n",
              "      <th>2013</th>\n",
              "      <th>2014</th>\n",
              "      <th>2015</th>\n",
              "      <th>2016</th>\n",
              "      <th>2017</th>\n",
              "      <th>2018</th>\n",
              "    </tr>\n",
              "  </thead>\n",
              "  <tbody>\n",
              "    <tr>\n",
              "      <th>0</th>\n",
              "      <td>Afghanistan</td>\n",
              "      <td>34.100</td>\n",
              "      <td>34.100</td>\n",
              "      <td>32.600</td>\n",
              "      <td>22.000</td>\n",
              "      <td>19.400</td>\n",
              "      <td>22.000</td>\n",
              "      <td>25.4</td>\n",
              "      <td>25.4</td>\n",
              "      <td>21.3</td>\n",
              "      <td>21.3</td>\n",
              "      <td>21.3</td>\n",
              "      <td>25.4</td>\n",
              "      <td>28.3</td>\n",
              "      <td>30.7</td>\n",
              "      <td>37.1</td>\n",
              "      <td>33.0</td>\n",
              "      <td>34.4</td>\n",
              "      <td>25.0</td>\n",
              "      <td>37.1</td>\n",
              "      <td>37.1</td>\n",
              "      <td>37.1</td>\n",
              "      <td>23.8</td>\n",
              "      <td>23.8</td>\n",
              "      <td>23.8</td>\n",
              "      <td>23.8</td>\n",
              "      <td>23.8</td>\n",
              "      <td>23.8</td>\n",
              "      <td>31.0</td>\n",
              "      <td>33.5</td>\n",
              "      <td>33.5</td>\n",
              "      <td>31.8</td>\n",
              "      <td>31.8</td>\n",
              "      <td>31.8</td>\n",
              "      <td>31.8</td>\n",
              "      <td>31.8</td>\n",
              "      <td>31.8</td>\n",
              "      <td>31.8</td>\n",
              "      <td>31.8</td>\n",
              "      <td>32.3</td>\n",
              "      <td>32.3</td>\n",
              "      <td>32.3</td>\n",
              "      <td>31.8</td>\n",
              "      <td>31.8</td>\n",
              "      <td>27.4</td>\n",
              "      <td>27.4</td>\n",
              "    </tr>\n",
              "    <tr>\n",
              "      <th>1</th>\n",
              "      <td>Angola</td>\n",
              "      <td>32.000</td>\n",
              "      <td>32.000</td>\n",
              "      <td>32.000</td>\n",
              "      <td>32.000</td>\n",
              "      <td>32.000</td>\n",
              "      <td>32.000</td>\n",
              "      <td>34.6</td>\n",
              "      <td>34.6</td>\n",
              "      <td>43.5</td>\n",
              "      <td>36.7</td>\n",
              "      <td>40.6</td>\n",
              "      <td>40.6</td>\n",
              "      <td>30.2</td>\n",
              "      <td>34.6</td>\n",
              "      <td>34.6</td>\n",
              "      <td>30.2</td>\n",
              "      <td>45.0</td>\n",
              "      <td>46.0</td>\n",
              "      <td>53.8</td>\n",
              "      <td>53.8</td>\n",
              "      <td>41.7</td>\n",
              "      <td>47.7</td>\n",
              "      <td>53.8</td>\n",
              "      <td>53.8</td>\n",
              "      <td>53.8</td>\n",
              "      <td>53.8</td>\n",
              "      <td>53.8</td>\n",
              "      <td>49.8</td>\n",
              "      <td>49.8</td>\n",
              "      <td>49.8</td>\n",
              "      <td>47.0</td>\n",
              "      <td>49.8</td>\n",
              "      <td>47.0</td>\n",
              "      <td>49.8</td>\n",
              "      <td>47.0</td>\n",
              "      <td>55.4</td>\n",
              "      <td>51.9</td>\n",
              "      <td>51.9</td>\n",
              "      <td>40.3</td>\n",
              "      <td>40.3</td>\n",
              "      <td>40.3</td>\n",
              "      <td>43.4</td>\n",
              "      <td>43.4</td>\n",
              "      <td>43.4</td>\n",
              "      <td>45.6</td>\n",
              "    </tr>\n",
              "    <tr>\n",
              "      <th>2</th>\n",
              "      <td>Albania</td>\n",
              "      <td>0.161</td>\n",
              "      <td>0.161</td>\n",
              "      <td>0.161</td>\n",
              "      <td>0.161</td>\n",
              "      <td>0.161</td>\n",
              "      <td>0.161</td>\n",
              "      <td>0.0</td>\n",
              "      <td>0.0</td>\n",
              "      <td>0.0</td>\n",
              "      <td>0.0</td>\n",
              "      <td>0.0</td>\n",
              "      <td>0.0</td>\n",
              "      <td>0.0</td>\n",
              "      <td>0.0</td>\n",
              "      <td>0.0</td>\n",
              "      <td>23.7</td>\n",
              "      <td>52.0</td>\n",
              "      <td>50.4</td>\n",
              "      <td>50.4</td>\n",
              "      <td>58.6</td>\n",
              "      <td>50.4</td>\n",
              "      <td>50.4</td>\n",
              "      <td>55.2</td>\n",
              "      <td>67.7</td>\n",
              "      <td>64.2</td>\n",
              "      <td>61.8</td>\n",
              "      <td>61.8</td>\n",
              "      <td>67.0</td>\n",
              "      <td>61.8</td>\n",
              "      <td>67.0</td>\n",
              "      <td>66.1</td>\n",
              "      <td>72.0</td>\n",
              "      <td>80.4</td>\n",
              "      <td>80.4</td>\n",
              "      <td>80.4</td>\n",
              "      <td>80.4</td>\n",
              "      <td>74.8</td>\n",
              "      <td>80.4</td>\n",
              "      <td>77.5</td>\n",
              "      <td>77.5</td>\n",
              "      <td>77.5</td>\n",
              "      <td>72.8</td>\n",
              "      <td>65.6</td>\n",
              "      <td>77.5</td>\n",
              "      <td>68.4</td>\n",
              "    </tr>\n",
              "    <tr>\n",
              "      <th>3</th>\n",
              "      <td>United Arab Emirates</td>\n",
              "      <td>37.000</td>\n",
              "      <td>37.000</td>\n",
              "      <td>37.000</td>\n",
              "      <td>37.000</td>\n",
              "      <td>37.000</td>\n",
              "      <td>37.000</td>\n",
              "      <td>35.1</td>\n",
              "      <td>38.5</td>\n",
              "      <td>38.5</td>\n",
              "      <td>38.5</td>\n",
              "      <td>38.5</td>\n",
              "      <td>38.5</td>\n",
              "      <td>38.5</td>\n",
              "      <td>38.5</td>\n",
              "      <td>38.5</td>\n",
              "      <td>38.5</td>\n",
              "      <td>38.5</td>\n",
              "      <td>38.5</td>\n",
              "      <td>38.5</td>\n",
              "      <td>38.5</td>\n",
              "      <td>38.5</td>\n",
              "      <td>40.8</td>\n",
              "      <td>39.2</td>\n",
              "      <td>39.2</td>\n",
              "      <td>39.2</td>\n",
              "      <td>35.8</td>\n",
              "      <td>35.7</td>\n",
              "      <td>32.4</td>\n",
              "      <td>35.7</td>\n",
              "      <td>32.4</td>\n",
              "      <td>32.4</td>\n",
              "      <td>32.4</td>\n",
              "      <td>32.4</td>\n",
              "      <td>32.4</td>\n",
              "      <td>32.4</td>\n",
              "      <td>34.6</td>\n",
              "      <td>33.6</td>\n",
              "      <td>33.6</td>\n",
              "      <td>33.6</td>\n",
              "      <td>33.6</td>\n",
              "      <td>34.6</td>\n",
              "      <td>36.1</td>\n",
              "      <td>36.1</td>\n",
              "      <td>36.1</td>\n",
              "      <td>35.1</td>\n",
              "    </tr>\n",
              "    <tr>\n",
              "      <th>4</th>\n",
              "      <td>Argentina</td>\n",
              "      <td>59.800</td>\n",
              "      <td>47.400</td>\n",
              "      <td>47.400</td>\n",
              "      <td>47.400</td>\n",
              "      <td>47.400</td>\n",
              "      <td>47.400</td>\n",
              "      <td>47.5</td>\n",
              "      <td>47.5</td>\n",
              "      <td>46.2</td>\n",
              "      <td>66.2</td>\n",
              "      <td>66.2</td>\n",
              "      <td>73.9</td>\n",
              "      <td>78.6</td>\n",
              "      <td>73.9</td>\n",
              "      <td>73.9</td>\n",
              "      <td>78.6</td>\n",
              "      <td>78.6</td>\n",
              "      <td>67.6</td>\n",
              "      <td>65.4</td>\n",
              "      <td>80.9</td>\n",
              "      <td>80.9</td>\n",
              "      <td>80.9</td>\n",
              "      <td>80.9</td>\n",
              "      <td>80.9</td>\n",
              "      <td>80.9</td>\n",
              "      <td>80.9</td>\n",
              "      <td>80.9</td>\n",
              "      <td>80.9</td>\n",
              "      <td>80.9</td>\n",
              "      <td>80.9</td>\n",
              "      <td>80.9</td>\n",
              "      <td>80.9</td>\n",
              "      <td>80.9</td>\n",
              "      <td>80.9</td>\n",
              "      <td>80.9</td>\n",
              "      <td>80.9</td>\n",
              "      <td>80.9</td>\n",
              "      <td>80.9</td>\n",
              "      <td>80.9</td>\n",
              "      <td>67.6</td>\n",
              "      <td>67.6</td>\n",
              "      <td>70.2</td>\n",
              "      <td>76.9</td>\n",
              "      <td>79.1</td>\n",
              "      <td>79.1</td>\n",
              "    </tr>\n",
              "  </tbody>\n",
              "</table>\n",
              "</div>"
            ],
            "text/plain": [
              "                country    1974    1975    1976  ...  2015  2016  2017  2018\n",
              "0           Afghanistan  34.100  34.100  32.600  ...  31.8  31.8  27.4  27.4\n",
              "1                Angola  32.000  32.000  32.000  ...  43.4  43.4  43.4  45.6\n",
              "2               Albania   0.161   0.161   0.161  ...  72.8  65.6  77.5  68.4\n",
              "3  United Arab Emirates  37.000  37.000  37.000  ...  36.1  36.1  36.1  35.1\n",
              "4             Argentina  59.800  47.400  47.400  ...  70.2  76.9  79.1  79.1\n",
              "\n",
              "[5 rows x 46 columns]"
            ]
          },
          "metadata": {}
        },
        {
          "output_type": "stream",
          "name": "stdout",
          "text": [
            "-----------------------------------------------\n",
            "\u001b[1mFim do arquivo:\u001b[0m\n"
          ]
        },
        {
          "output_type": "display_data",
          "data": {
            "text/html": [
              "<div>\n",
              "<style scoped>\n",
              "    .dataframe tbody tr th:only-of-type {\n",
              "        vertical-align: middle;\n",
              "    }\n",
              "\n",
              "    .dataframe tbody tr th {\n",
              "        vertical-align: top;\n",
              "    }\n",
              "\n",
              "    .dataframe thead th {\n",
              "        text-align: right;\n",
              "    }\n",
              "</style>\n",
              "<table border=\"1\" class=\"dataframe\">\n",
              "  <thead>\n",
              "    <tr style=\"text-align: right;\">\n",
              "      <th></th>\n",
              "      <th>country</th>\n",
              "      <th>1974</th>\n",
              "      <th>1975</th>\n",
              "      <th>1976</th>\n",
              "      <th>1977</th>\n",
              "      <th>1978</th>\n",
              "      <th>1979</th>\n",
              "      <th>1980</th>\n",
              "      <th>1981</th>\n",
              "      <th>1982</th>\n",
              "      <th>1983</th>\n",
              "      <th>1984</th>\n",
              "      <th>1985</th>\n",
              "      <th>1986</th>\n",
              "      <th>1987</th>\n",
              "      <th>1988</th>\n",
              "      <th>1989</th>\n",
              "      <th>1990</th>\n",
              "      <th>1991</th>\n",
              "      <th>1992</th>\n",
              "      <th>1993</th>\n",
              "      <th>1994</th>\n",
              "      <th>1995</th>\n",
              "      <th>1996</th>\n",
              "      <th>1997</th>\n",
              "      <th>1998</th>\n",
              "      <th>1999</th>\n",
              "      <th>2000</th>\n",
              "      <th>2001</th>\n",
              "      <th>2002</th>\n",
              "      <th>2003</th>\n",
              "      <th>2004</th>\n",
              "      <th>2005</th>\n",
              "      <th>2006</th>\n",
              "      <th>2007</th>\n",
              "      <th>2008</th>\n",
              "      <th>2009</th>\n",
              "      <th>2010</th>\n",
              "      <th>2011</th>\n",
              "      <th>2012</th>\n",
              "      <th>2013</th>\n",
              "      <th>2014</th>\n",
              "      <th>2015</th>\n",
              "      <th>2016</th>\n",
              "      <th>2017</th>\n",
              "      <th>2018</th>\n",
              "    </tr>\n",
              "  </thead>\n",
              "  <tbody>\n",
              "    <tr>\n",
              "      <th>155</th>\n",
              "      <td>Vietnam</td>\n",
              "      <td>11.4</td>\n",
              "      <td>15.8</td>\n",
              "      <td>15.8</td>\n",
              "      <td>15.8</td>\n",
              "      <td>15.8</td>\n",
              "      <td>15.8</td>\n",
              "      <td>15.4</td>\n",
              "      <td>15.4</td>\n",
              "      <td>15.4</td>\n",
              "      <td>15.4</td>\n",
              "      <td>15.4</td>\n",
              "      <td>15.4</td>\n",
              "      <td>15.4</td>\n",
              "      <td>15.4</td>\n",
              "      <td>25.4</td>\n",
              "      <td>21.3</td>\n",
              "      <td>21.3</td>\n",
              "      <td>23.7</td>\n",
              "      <td>17.4</td>\n",
              "      <td>17.4</td>\n",
              "      <td>17.4</td>\n",
              "      <td>20.5</td>\n",
              "      <td>20.5</td>\n",
              "      <td>25.7</td>\n",
              "      <td>25.7</td>\n",
              "      <td>25.7</td>\n",
              "      <td>25.7</td>\n",
              "      <td>25.7</td>\n",
              "      <td>25.7</td>\n",
              "      <td>25.7</td>\n",
              "      <td>27.6</td>\n",
              "      <td>27.6</td>\n",
              "      <td>27.6</td>\n",
              "      <td>27.6</td>\n",
              "      <td>27.6</td>\n",
              "      <td>27.6</td>\n",
              "      <td>27.6</td>\n",
              "      <td>27.6</td>\n",
              "      <td>27.6</td>\n",
              "      <td>27.6</td>\n",
              "      <td>27.6</td>\n",
              "      <td>27.6</td>\n",
              "      <td>27.6</td>\n",
              "      <td>27.6</td>\n",
              "      <td>27.4</td>\n",
              "    </tr>\n",
              "    <tr>\n",
              "      <th>156</th>\n",
              "      <td>Yemen</td>\n",
              "      <td>34.2</td>\n",
              "      <td>34.2</td>\n",
              "      <td>34.2</td>\n",
              "      <td>34.2</td>\n",
              "      <td>34.2</td>\n",
              "      <td>34.2</td>\n",
              "      <td>36.6</td>\n",
              "      <td>36.6</td>\n",
              "      <td>32.1</td>\n",
              "      <td>32.1</td>\n",
              "      <td>36.6</td>\n",
              "      <td>36.6</td>\n",
              "      <td>36.6</td>\n",
              "      <td>36.6</td>\n",
              "      <td>32.1</td>\n",
              "      <td>39.0</td>\n",
              "      <td>38.2</td>\n",
              "      <td>38.2</td>\n",
              "      <td>33.5</td>\n",
              "      <td>43.2</td>\n",
              "      <td>43.2</td>\n",
              "      <td>43.2</td>\n",
              "      <td>43.2</td>\n",
              "      <td>43.2</td>\n",
              "      <td>37.1</td>\n",
              "      <td>37.1</td>\n",
              "      <td>37.1</td>\n",
              "      <td>37.1</td>\n",
              "      <td>37.1</td>\n",
              "      <td>32.1</td>\n",
              "      <td>32.1</td>\n",
              "      <td>32.1</td>\n",
              "      <td>32.1</td>\n",
              "      <td>32.1</td>\n",
              "      <td>32.1</td>\n",
              "      <td>33.5</td>\n",
              "      <td>30.4</td>\n",
              "      <td>34.8</td>\n",
              "      <td>27.1</td>\n",
              "      <td>26.1</td>\n",
              "      <td>19.1</td>\n",
              "      <td>24.4</td>\n",
              "      <td>13.9</td>\n",
              "      <td>16.9</td>\n",
              "      <td>13.9</td>\n",
              "    </tr>\n",
              "    <tr>\n",
              "      <th>157</th>\n",
              "      <td>South Africa</td>\n",
              "      <td>37.6</td>\n",
              "      <td>37.6</td>\n",
              "      <td>37.6</td>\n",
              "      <td>37.6</td>\n",
              "      <td>37.6</td>\n",
              "      <td>43.1</td>\n",
              "      <td>44.0</td>\n",
              "      <td>44.0</td>\n",
              "      <td>44.0</td>\n",
              "      <td>44.0</td>\n",
              "      <td>44.0</td>\n",
              "      <td>44.0</td>\n",
              "      <td>39.7</td>\n",
              "      <td>48.5</td>\n",
              "      <td>48.5</td>\n",
              "      <td>48.1</td>\n",
              "      <td>48.1</td>\n",
              "      <td>52.0</td>\n",
              "      <td>52.0</td>\n",
              "      <td>69.5</td>\n",
              "      <td>72.6</td>\n",
              "      <td>72.6</td>\n",
              "      <td>72.6</td>\n",
              "      <td>72.6</td>\n",
              "      <td>72.6</td>\n",
              "      <td>72.6</td>\n",
              "      <td>72.6</td>\n",
              "      <td>72.6</td>\n",
              "      <td>72.6</td>\n",
              "      <td>72.6</td>\n",
              "      <td>72.6</td>\n",
              "      <td>72.6</td>\n",
              "      <td>72.6</td>\n",
              "      <td>72.6</td>\n",
              "      <td>72.6</td>\n",
              "      <td>100.0</td>\n",
              "      <td>100.0</td>\n",
              "      <td>92.6</td>\n",
              "      <td>86.6</td>\n",
              "      <td>86.6</td>\n",
              "      <td>76.2</td>\n",
              "      <td>68.6</td>\n",
              "      <td>65.2</td>\n",
              "      <td>72.8</td>\n",
              "      <td>60.5</td>\n",
              "    </tr>\n",
              "    <tr>\n",
              "      <th>158</th>\n",
              "      <td>Zambia</td>\n",
              "      <td>49.9</td>\n",
              "      <td>49.9</td>\n",
              "      <td>49.9</td>\n",
              "      <td>49.9</td>\n",
              "      <td>49.9</td>\n",
              "      <td>49.9</td>\n",
              "      <td>46.7</td>\n",
              "      <td>49.6</td>\n",
              "      <td>49.6</td>\n",
              "      <td>49.6</td>\n",
              "      <td>49.6</td>\n",
              "      <td>49.6</td>\n",
              "      <td>52.6</td>\n",
              "      <td>49.6</td>\n",
              "      <td>49.6</td>\n",
              "      <td>50.6</td>\n",
              "      <td>55.4</td>\n",
              "      <td>57.9</td>\n",
              "      <td>68.4</td>\n",
              "      <td>68.4</td>\n",
              "      <td>68.4</td>\n",
              "      <td>68.4</td>\n",
              "      <td>68.4</td>\n",
              "      <td>68.4</td>\n",
              "      <td>68.4</td>\n",
              "      <td>68.4</td>\n",
              "      <td>68.4</td>\n",
              "      <td>68.4</td>\n",
              "      <td>68.4</td>\n",
              "      <td>68.4</td>\n",
              "      <td>55.6</td>\n",
              "      <td>70.0</td>\n",
              "      <td>63.2</td>\n",
              "      <td>70.0</td>\n",
              "      <td>62.7</td>\n",
              "      <td>69.3</td>\n",
              "      <td>64.1</td>\n",
              "      <td>64.1</td>\n",
              "      <td>65.1</td>\n",
              "      <td>65.1</td>\n",
              "      <td>65.1</td>\n",
              "      <td>66.6</td>\n",
              "      <td>59.9</td>\n",
              "      <td>61.3</td>\n",
              "      <td>51.7</td>\n",
              "    </tr>\n",
              "    <tr>\n",
              "      <th>159</th>\n",
              "      <td>Zimbabwe</td>\n",
              "      <td>48.7</td>\n",
              "      <td>48.7</td>\n",
              "      <td>48.7</td>\n",
              "      <td>54.8</td>\n",
              "      <td>54.8</td>\n",
              "      <td>56.5</td>\n",
              "      <td>58.8</td>\n",
              "      <td>58.8</td>\n",
              "      <td>58.8</td>\n",
              "      <td>52.5</td>\n",
              "      <td>52.5</td>\n",
              "      <td>49.6</td>\n",
              "      <td>58.8</td>\n",
              "      <td>60.1</td>\n",
              "      <td>60.1</td>\n",
              "      <td>60.1</td>\n",
              "      <td>60.1</td>\n",
              "      <td>60.1</td>\n",
              "      <td>60.1</td>\n",
              "      <td>60.1</td>\n",
              "      <td>60.1</td>\n",
              "      <td>60.1</td>\n",
              "      <td>60.1</td>\n",
              "      <td>57.6</td>\n",
              "      <td>57.6</td>\n",
              "      <td>58.0</td>\n",
              "      <td>52.1</td>\n",
              "      <td>52.1</td>\n",
              "      <td>50.1</td>\n",
              "      <td>53.1</td>\n",
              "      <td>44.0</td>\n",
              "      <td>53.1</td>\n",
              "      <td>56.4</td>\n",
              "      <td>42.7</td>\n",
              "      <td>42.7</td>\n",
              "      <td>49.2</td>\n",
              "      <td>49.2</td>\n",
              "      <td>49.2</td>\n",
              "      <td>60.1</td>\n",
              "      <td>60.1</td>\n",
              "      <td>60.1</td>\n",
              "      <td>46.7</td>\n",
              "      <td>50.7</td>\n",
              "      <td>48.7</td>\n",
              "      <td>48.7</td>\n",
              "    </tr>\n",
              "  </tbody>\n",
              "</table>\n",
              "</div>"
            ],
            "text/plain": [
              "          country  1974  1975  1976  1977  ...  2014  2015  2016  2017  2018\n",
              "155       Vietnam  11.4  15.8  15.8  15.8  ...  27.6  27.6  27.6  27.6  27.4\n",
              "156         Yemen  34.2  34.2  34.2  34.2  ...  19.1  24.4  13.9  16.9  13.9\n",
              "157  South Africa  37.6  37.6  37.6  37.6  ...  76.2  68.6  65.2  72.8  60.5\n",
              "158        Zambia  49.9  49.9  49.9  49.9  ...  65.1  66.6  59.9  61.3  51.7\n",
              "159      Zimbabwe  48.7  48.7  48.7  54.8  ...  60.1  46.7  50.7  48.7  48.7\n",
              "\n",
              "[5 rows x 46 columns]"
            ]
          },
          "metadata": {}
        },
        {
          "output_type": "stream",
          "name": "stdout",
          "text": [
            "-----------------------------------------------\n",
            "\u001b[1mValue Count - Países:\u001b[0m\n"
          ]
        },
        {
          "output_type": "display_data",
          "data": {
            "text/plain": [
              "United States    1\n",
              "Bangladesh       1\n",
              "Mauritius        1\n",
              "Madagascar       1\n",
              "Latvia           1\n",
              "                ..\n",
              "Croatia          1\n",
              "Sweden           1\n",
              "Morocco          1\n",
              "Eritrea          1\n",
              "Switzerland      1\n",
              "Name: country, Length: 160, dtype: int64"
            ]
          },
          "metadata": {}
        },
        {
          "output_type": "stream",
          "name": "stdout",
          "text": [
            "-----------------------------------------------\n",
            "\u001b[1mPaíses duplicados:\u001b[0m\n"
          ]
        },
        {
          "output_type": "display_data",
          "data": {
            "text/plain": [
              "0"
            ]
          },
          "metadata": {}
        },
        {
          "output_type": "stream",
          "name": "stdout",
          "text": [
            "-----------------------------------------------\n",
            "\u001b[1mPrimeiro e último país:\u001b[0m\n"
          ]
        },
        {
          "output_type": "display_data",
          "data": {
            "application/vnd.google.colaboratory.intrinsic+json": {
              "type": "string"
            },
            "text/plain": [
              "'Afghanistan'"
            ]
          },
          "metadata": {}
        },
        {
          "output_type": "display_data",
          "data": {
            "application/vnd.google.colaboratory.intrinsic+json": {
              "type": "string"
            },
            "text/plain": [
              "'Zimbabwe'"
            ]
          },
          "metadata": {}
        },
        {
          "output_type": "stream",
          "name": "stdout",
          "text": [
            "-----------------------------------------------\n",
            "\u001b[1mTipos de dados das colunas:\u001b[0m\n"
          ]
        },
        {
          "output_type": "display_data",
          "data": {
            "text/plain": [
              "country     object\n",
              "1974       float64\n",
              "1975       float64\n",
              "1976       float64\n",
              "1977       float64\n",
              "1978       float64\n",
              "1979       float64\n",
              "1980       float64\n",
              "1981       float64\n",
              "1982       float64\n",
              "1983       float64\n",
              "1984       float64\n",
              "1985       float64\n",
              "1986       float64\n",
              "1987       float64\n",
              "1988       float64\n",
              "1989       float64\n",
              "1990       float64\n",
              "1991       float64\n",
              "1992       float64\n",
              "1993       float64\n",
              "1994       float64\n",
              "1995       float64\n",
              "1996       float64\n",
              "1997       float64\n",
              "1998       float64\n",
              "1999       float64\n",
              "2000       float64\n",
              "2001       float64\n",
              "2002       float64\n",
              "2003       float64\n",
              "2004       float64\n",
              "2005       float64\n",
              "2006       float64\n",
              "2007       float64\n",
              "2008       float64\n",
              "2009       float64\n",
              "2010       float64\n",
              "2011       float64\n",
              "2012       float64\n",
              "2013       float64\n",
              "2014       float64\n",
              "2015       float64\n",
              "2016       float64\n",
              "2017       float64\n",
              "2018       float64\n",
              "dtype: object"
            ]
          },
          "metadata": {}
        },
        {
          "output_type": "stream",
          "name": "stdout",
          "text": [
            "-----------------------------------------------\n",
            "\u001b[1mSoma dos não-nulos\u001b[0m\n",
            "country    160\n",
            "1974       137\n",
            "1975       137\n",
            "1976       137\n",
            "1977       137\n",
            "1978       137\n",
            "1979       137\n",
            "1980       137\n",
            "1981       137\n",
            "1982       137\n",
            "1983       137\n",
            "1984       137\n",
            "1985       137\n",
            "1986       137\n",
            "1987       137\n",
            "1988       137\n",
            "1989       138\n",
            "1990       155\n",
            "1991       156\n",
            "1992       158\n",
            "1993       158\n",
            "1994       158\n",
            "1995       158\n",
            "1996       158\n",
            "1997       158\n",
            "1998       158\n",
            "1999       158\n",
            "2000       158\n",
            "2001       159\n",
            "2002       159\n",
            "2003       159\n",
            "2004       159\n",
            "2005       159\n",
            "2006       159\n",
            "2007       159\n",
            "2008       159\n",
            "2009       159\n",
            "2010       160\n",
            "2011       160\n",
            "2012       160\n",
            "2013       160\n",
            "2014       160\n",
            "2015       160\n",
            "2016       160\n",
            "2017       160\n",
            "2018       160\n",
            "dtype: int64\n",
            "-----------------------------------------------\n",
            "\u001b[1mSoma dos nulos\u001b[0m\n",
            "country     0\n",
            "1974       23\n",
            "1975       23\n",
            "1976       23\n",
            "1977       23\n",
            "1978       23\n",
            "1979       23\n",
            "1980       23\n",
            "1981       23\n",
            "1982       23\n",
            "1983       23\n",
            "1984       23\n",
            "1985       23\n",
            "1986       23\n",
            "1987       23\n",
            "1988       23\n",
            "1989       22\n",
            "1990        5\n",
            "1991        4\n",
            "1992        2\n",
            "1993        2\n",
            "1994        2\n",
            "1995        2\n",
            "1996        2\n",
            "1997        2\n",
            "1998        2\n",
            "1999        2\n",
            "2000        2\n",
            "2001        1\n",
            "2002        1\n",
            "2003        1\n",
            "2004        1\n",
            "2005        1\n",
            "2006        1\n",
            "2007        1\n",
            "2008        1\n",
            "2009        1\n",
            "2010        0\n",
            "2011        0\n",
            "2012        0\n",
            "2013        0\n",
            "2014        0\n",
            "2015        0\n",
            "2016        0\n",
            "2017        0\n",
            "2018        0\n",
            "dtype: int64\n",
            "-----------------------------------------------\n",
            "\u001b[1mNomes das colunas:\u001b[0m\n",
            "['country' '1974' '1975' '1976' '1977' '1978' '1979' '1980' '1981' '1982'\n",
            " '1983' '1984' '1985' '1986' '1987' '1988' '1989' '1990' '1991' '1992'\n",
            " '1993' '1994' '1995' '1996' '1997' '1998' '1999' '2000' '2001' '2002'\n",
            " '2003' '2004' '2005' '2006' '2007' '2008' '2009' '2010' '2011' '2012'\n",
            " '2013' '2014' '2015' '2016' '2017' '2018']\n",
            "-----------------------------------------------\n",
            "\u001b[1mDescribe do dataframe:\u001b[0m\n",
            "             1974        1975        1976  ...        2016        2017        2018\n",
            "count  137.000000  137.000000  137.000000  ...  160.000000  160.000000  160.000000\n",
            "mean    46.777993   46.812445   46.986168  ...   52.619500   52.558875   51.353562\n",
            "std     21.428010   21.586861   21.536833  ...   19.893144   19.555309   18.431195\n",
            "min      0.161000    0.161000    0.161000  ...    0.000000    0.000000    0.000000\n",
            "25%     32.100000   32.100000   32.100000  ...   38.425000   38.875000   40.675000\n",
            "50%     46.700000   47.200000   47.200000  ...   55.800000   55.750000   54.450000\n",
            "75%     63.800000   63.800000   63.800000  ...   67.925000   68.425000   65.000000\n",
            "max     99.900000   99.900000   99.900000  ...  100.000000  100.000000   84.300000\n",
            "\n",
            "[8 rows x 45 columns]\n",
            "-----------------------------------------------\n",
            "\u001b[1mColumns.values do data frame:\u001b[0m\n",
            "['country' '1974' '1975' '1976' '1977' '1978' '1979' '1980' '1981' '1982'\n",
            " '1983' '1984' '1985' '1986' '1987' '1988' '1989' '1990' '1991' '1992'\n",
            " '1993' '1994' '1995' '1996' '1997' '1998' '1999' '2000' '2001' '2002'\n",
            " '2003' '2004' '2005' '2006' '2007' '2008' '2009' '2010' '2011' '2012'\n",
            " '2013' '2014' '2015' '2016' '2017' '2018']\n"
          ]
        }
      ]
    },
    {
      "cell_type": "markdown",
      "metadata": {
        "id": "CHpSiLAnBaC-"
      },
      "source": [
        "##**Print dos dados para o ano de 1978**"
      ]
    },
    {
      "cell_type": "code",
      "metadata": {
        "colab": {
          "base_uri": "https://localhost:8080/"
        },
        "id": "lhz9tOCD723h",
        "outputId": "3ae908cf-516e-4272-c2e5-17025199aaba"
      },
      "source": [
        "for i in range(0, len(FR)):\n",
        "    print(FR.iloc[i]['country'],FR.iloc[i]['1978'])"
      ],
      "execution_count": null,
      "outputs": [
        {
          "output_type": "stream",
          "name": "stdout",
          "text": [
            "Afghanistan 19.4\n",
            "Angola 32.0\n",
            "Albania 0.161\n",
            "United Arab Emirates 37.0\n",
            "Argentina 47.4\n",
            "Armenia nan\n",
            "Australia 76.9\n",
            "Austria 71.1\n",
            "Azerbaijan nan\n",
            "Burundi 43.7\n",
            "Belgium 73.4\n",
            "Benin 32.1\n",
            "Burkina Faso 64.8\n",
            "Bangladesh 58.9\n",
            "Bulgaria 20.0\n",
            "Bahrain 45.3\n",
            "Bosnia and Herzegovina nan\n",
            "Belarus nan\n",
            "Bolivia 49.8\n",
            "Brazil 54.1\n",
            "Barbados 74.5\n",
            "Botswana 68.3\n",
            "Central African Republic 60.1\n",
            "Canada 69.8\n",
            "Switzerland 72.8\n",
            "Chile 53.8\n",
            "China 18.7\n",
            "Cote d'Ivoire 65.2\n",
            "Cameroon 39.1\n",
            "Congo, Dem. Rep. 31.4\n",
            "Congo, Rep. 37.2\n",
            "Colombia 51.3\n",
            "Cape Verde 70.5\n",
            "Costa Rica 63.5\n",
            "Cuba 0.161\n",
            "Cyprus 58.9\n",
            "Czech Republic 18.7\n",
            "Germany 82.8\n",
            "Denmark 88.9\n",
            "Dominican Republic 68.4\n",
            "Algeria 30.2\n",
            "Ecuador 70.4\n",
            "Egypt 33.9\n",
            "Eritrea nan\n",
            "Spain 80.1\n",
            "Estonia nan\n",
            "Ethiopia 23.1\n",
            "Finland 82.0\n",
            "France 76.9\n",
            "Gabon 45.3\n",
            "United Kingdom 67.0\n",
            "Georgia nan\n",
            "Ghana 69.8\n",
            "Guinea 47.2\n",
            "Gambia 64.7\n",
            "Guinea-Bissau 48.1\n",
            "Equatorial Guinea 19.3\n",
            "Greece 57.5\n",
            "Guatemala 34.2\n",
            "Honduras 53.1\n",
            "Croatia nan\n",
            "Haiti 31.6\n",
            "Hungary 22.0\n",
            "Indonesia 36.2\n",
            "India 51.1\n",
            "Ireland 65.8\n",
            "Iran 18.7\n",
            "Iraq 25.0\n",
            "Iceland 80.5\n",
            "Israel 62.8\n",
            "Italy 73.4\n",
            "Jamaica 63.8\n",
            "Jordan 41.1\n",
            "Japan 72.8\n",
            "Kazakhstan nan\n",
            "Kenya 54.8\n",
            "Kyrgyz Republic nan\n",
            "Cambodia 8.27\n",
            "South Korea 46.7\n",
            "Kuwait 40.5\n",
            "Lao 18.7\n",
            "Lebanon 52.7\n",
            "Liberia 66.1\n",
            "Libya 9.52\n",
            "Sri Lanka 66.0\n",
            "Lesotho 62.3\n",
            "Lithuania nan\n",
            "Luxembourg 68.4\n",
            "Latvia nan\n",
            "Morocco 28.6\n",
            "Moldova nan\n",
            "Madagascar 45.3\n",
            "Mexico 42.3\n",
            "North Macedonia nan\n",
            "Mali 44.8\n",
            "Myanmar 31.3\n",
            "Mongolia 6.98\n",
            "Mozambique 12.0\n",
            "Mauritania 27.9\n",
            "Mauritius 70.6\n",
            "Malawi 30.3\n",
            "Malaysia 39.1\n",
            "Namibia nan\n",
            "Niger 39.6\n",
            "Nigeria 57.0\n",
            "Nicaragua 38.5\n",
            "Netherlands 84.0\n",
            "Norway 72.2\n",
            "Nepal 34.0\n",
            "New Zealand 86.2\n",
            "Oman 33.5\n",
            "Pakistan 38.8\n",
            "Panama 51.1\n",
            "Peru 58.1\n",
            "Philippines 46.0\n",
            "Papua New Guinea 72.8\n",
            "Poland 30.5\n",
            "North Korea 0.161\n",
            "Portugal 99.9\n",
            "Paraguay 42.7\n",
            "Qatar 27.7\n",
            "Romania 22.0\n",
            "Russia 11.1\n",
            "Rwanda 44.5\n",
            "Saudi Arabia 6.98\n",
            "Sudan 32.6\n",
            "Senegal 52.6\n",
            "Singapore 52.4\n",
            "Sierra Leone 60.4\n",
            "El Salvador 34.8\n",
            "Somalia 27.0\n",
            "Serbia 28.8\n",
            "South Sudan nan\n",
            "Slovak Republic nan\n",
            "Slovenia nan\n",
            "Sweden 78.0\n",
            "Eswatini 44.8\n",
            "Syria 23.1\n",
            "Chad 55.7\n",
            "Togo 50.0\n",
            "Thailand 45.3\n",
            "Tajikistan nan\n",
            "Turkmenistan nan\n",
            "Timor-Leste nan\n",
            "Trinidad and Tobago 59.1\n",
            "Tunisia 36.3\n",
            "Turkey 34.1\n",
            "Taiwan 40.9\n",
            "Tanzania 61.2\n",
            "Uganda 35.9\n",
            "Ukraine nan\n",
            "Uruguay 57.1\n",
            "United States 88.9\n",
            "Uzbekistan nan\n",
            "Venezuela 69.8\n",
            "Vietnam 15.8\n",
            "Yemen 34.2\n",
            "South Africa 37.6\n",
            "Zambia 49.9\n",
            "Zimbabwe 54.8\n"
          ]
        }
      ]
    },
    {
      "cell_type": "markdown",
      "metadata": {
        "id": "KRJW1r-j5zFC"
      },
      "source": [
        "##**Alterando o formato do dataframe com pd.melt**\n",
        ">Alterado para que o nome das colunas não seja o ano, pois não conseguí fazer pesquisa no dataframe com o nome de coluna sendo um número."
      ]
    },
    {
      "cell_type": "code",
      "metadata": {
        "colab": {
          "base_uri": "https://localhost:8080/"
        },
        "id": "LEF9x1knlqTP",
        "outputId": "340b15f5-b1da-4505-b297-3c5ddc5fda94"
      },
      "source": [
        "df2 = pd.melt(FR, id_vars=['country'], var_name ='Year', value_name ='Value')\n",
        "\n",
        "df2.dtypes\n",
        "\n",
        "#df2  = df2[ df2.Year == '2015' ]"
      ],
      "execution_count": null,
      "outputs": [
        {
          "output_type": "execute_result",
          "data": {
            "text/plain": [
              "country     object\n",
              "Year        object\n",
              "Value      float64\n",
              "dtype: object"
            ]
          },
          "metadata": {},
          "execution_count": 28
        }
      ]
    },
    {
      "cell_type": "markdown",
      "metadata": {
        "id": "9Y6hQYBb6SR4"
      },
      "source": [
        "##**Informações do DataFrame com pd.melt**"
      ]
    },
    {
      "cell_type": "code",
      "metadata": {
        "colab": {
          "base_uri": "https://localhost:8080/",
          "height": 1410
        },
        "id": "5BVHiwLy6W-5",
        "outputId": "3cf28cfe-ccc8-4f65-b781-0b4024efe8ba"
      },
      "source": [
        "print(\"\\033[1mFormato do arquivo:\\033[0m\")\n",
        "display(df2.shape)\n",
        "print('-----------------------------------------------')\n",
        "print(\"\\033[1mInício do arquivo:\\033[0m\")\n",
        "display(df2.head())\n",
        "print('-----------------------------------------------')\n",
        "print(\"\\033[1mFim do arquivo:\\033[0m\")\n",
        "display(df2.tail())\n",
        "print('-----------------------------------------------')\n",
        "print(\"\\033[1mValue Count - Países:\\033[0m\")\n",
        "display(df2.country.value_counts())\n",
        "print('-----------------------------------------------')\n",
        "print(\"\\033[1mPrimeiro e último país:\\033[0m\")\n",
        "display(df2.country.min(),df2.country.max())\n",
        "print('-----------------------------------------------')\n",
        "print(\"\\033[1mMenor e maior valor:\\033[0m\")\n",
        "print('-----------------------------------------------')\n",
        "display(df2.Value.min(),df2.Value.max())\n",
        "print('-----------------------------------------------')\n",
        "print(\"\\033[1mTipos de dados das colunas:\\033[0m\")\n",
        "display(df2.dtypes)\n",
        "print('-----------------------------------------------')\n",
        "print(\"\\033[1mNomes das colunas:\\033[0m\")\n",
        "print(df2.columns.values)\n",
        "print('-----------------------------------------------')\n",
        "print('\\033[1mSoma dos nulos\\033[0m')\n",
        "print(df2.isnull().sum())\n",
        "print('-----------------------------------------------')\n",
        "print('\\033[1mSoma dos não-nulos\\033[0m')\n",
        "print(df2.notnull().sum())\n",
        "print('-----------------------------------------------')\n",
        "print('\\033[1mDescribe\\033[0m')\n",
        "print(df2.describe())"
      ],
      "execution_count": null,
      "outputs": [
        {
          "output_type": "stream",
          "name": "stdout",
          "text": [
            "\u001b[1mFormato do arquivo:\u001b[0m\n"
          ]
        },
        {
          "output_type": "display_data",
          "data": {
            "text/plain": [
              "(7200, 3)"
            ]
          },
          "metadata": {}
        },
        {
          "output_type": "stream",
          "name": "stdout",
          "text": [
            "-----------------------------------------------\n",
            "\u001b[1mInício do arquivo:\u001b[0m\n"
          ]
        },
        {
          "output_type": "display_data",
          "data": {
            "text/html": [
              "<div>\n",
              "<style scoped>\n",
              "    .dataframe tbody tr th:only-of-type {\n",
              "        vertical-align: middle;\n",
              "    }\n",
              "\n",
              "    .dataframe tbody tr th {\n",
              "        vertical-align: top;\n",
              "    }\n",
              "\n",
              "    .dataframe thead th {\n",
              "        text-align: right;\n",
              "    }\n",
              "</style>\n",
              "<table border=\"1\" class=\"dataframe\">\n",
              "  <thead>\n",
              "    <tr style=\"text-align: right;\">\n",
              "      <th></th>\n",
              "      <th>country</th>\n",
              "      <th>Year</th>\n",
              "      <th>Value</th>\n",
              "    </tr>\n",
              "  </thead>\n",
              "  <tbody>\n",
              "    <tr>\n",
              "      <th>0</th>\n",
              "      <td>Afghanistan</td>\n",
              "      <td>1974</td>\n",
              "      <td>34.100</td>\n",
              "    </tr>\n",
              "    <tr>\n",
              "      <th>1</th>\n",
              "      <td>Angola</td>\n",
              "      <td>1974</td>\n",
              "      <td>32.000</td>\n",
              "    </tr>\n",
              "    <tr>\n",
              "      <th>2</th>\n",
              "      <td>Albania</td>\n",
              "      <td>1974</td>\n",
              "      <td>0.161</td>\n",
              "    </tr>\n",
              "    <tr>\n",
              "      <th>3</th>\n",
              "      <td>United Arab Emirates</td>\n",
              "      <td>1974</td>\n",
              "      <td>37.000</td>\n",
              "    </tr>\n",
              "    <tr>\n",
              "      <th>4</th>\n",
              "      <td>Argentina</td>\n",
              "      <td>1974</td>\n",
              "      <td>59.800</td>\n",
              "    </tr>\n",
              "  </tbody>\n",
              "</table>\n",
              "</div>"
            ],
            "text/plain": [
              "                country  Year   Value\n",
              "0           Afghanistan  1974  34.100\n",
              "1                Angola  1974  32.000\n",
              "2               Albania  1974   0.161\n",
              "3  United Arab Emirates  1974  37.000\n",
              "4             Argentina  1974  59.800"
            ]
          },
          "metadata": {}
        },
        {
          "output_type": "stream",
          "name": "stdout",
          "text": [
            "-----------------------------------------------\n",
            "\u001b[1mFim do arquivo:\u001b[0m\n"
          ]
        },
        {
          "output_type": "display_data",
          "data": {
            "text/html": [
              "<div>\n",
              "<style scoped>\n",
              "    .dataframe tbody tr th:only-of-type {\n",
              "        vertical-align: middle;\n",
              "    }\n",
              "\n",
              "    .dataframe tbody tr th {\n",
              "        vertical-align: top;\n",
              "    }\n",
              "\n",
              "    .dataframe thead th {\n",
              "        text-align: right;\n",
              "    }\n",
              "</style>\n",
              "<table border=\"1\" class=\"dataframe\">\n",
              "  <thead>\n",
              "    <tr style=\"text-align: right;\">\n",
              "      <th></th>\n",
              "      <th>country</th>\n",
              "      <th>Year</th>\n",
              "      <th>Value</th>\n",
              "    </tr>\n",
              "  </thead>\n",
              "  <tbody>\n",
              "    <tr>\n",
              "      <th>7195</th>\n",
              "      <td>Vietnam</td>\n",
              "      <td>2018</td>\n",
              "      <td>27.4</td>\n",
              "    </tr>\n",
              "    <tr>\n",
              "      <th>7196</th>\n",
              "      <td>Yemen</td>\n",
              "      <td>2018</td>\n",
              "      <td>13.9</td>\n",
              "    </tr>\n",
              "    <tr>\n",
              "      <th>7197</th>\n",
              "      <td>South Africa</td>\n",
              "      <td>2018</td>\n",
              "      <td>60.5</td>\n",
              "    </tr>\n",
              "    <tr>\n",
              "      <th>7198</th>\n",
              "      <td>Zambia</td>\n",
              "      <td>2018</td>\n",
              "      <td>51.7</td>\n",
              "    </tr>\n",
              "    <tr>\n",
              "      <th>7199</th>\n",
              "      <td>Zimbabwe</td>\n",
              "      <td>2018</td>\n",
              "      <td>48.7</td>\n",
              "    </tr>\n",
              "  </tbody>\n",
              "</table>\n",
              "</div>"
            ],
            "text/plain": [
              "           country  Year  Value\n",
              "7195       Vietnam  2018   27.4\n",
              "7196         Yemen  2018   13.9\n",
              "7197  South Africa  2018   60.5\n",
              "7198        Zambia  2018   51.7\n",
              "7199      Zimbabwe  2018   48.7"
            ]
          },
          "metadata": {}
        },
        {
          "output_type": "stream",
          "name": "stdout",
          "text": [
            "-----------------------------------------------\n",
            "\u001b[1mValue Count - Países:\u001b[0m\n"
          ]
        },
        {
          "output_type": "display_data",
          "data": {
            "text/plain": [
              "Bahrain        45\n",
              "Afghanistan    45\n",
              "Uganda         45\n",
              "Brazil         45\n",
              "Tunisia        45\n",
              "               ..\n",
              "Lebanon        45\n",
              "Italy          45\n",
              "Angola         45\n",
              "Zimbabwe       45\n",
              "Switzerland    45\n",
              "Name: country, Length: 160, dtype: int64"
            ]
          },
          "metadata": {}
        },
        {
          "output_type": "stream",
          "name": "stdout",
          "text": [
            "-----------------------------------------------\n",
            "\u001b[1mPrimeiro e último país:\u001b[0m\n"
          ]
        },
        {
          "output_type": "display_data",
          "data": {
            "application/vnd.google.colaboratory.intrinsic+json": {
              "type": "string"
            },
            "text/plain": [
              "'Afghanistan'"
            ]
          },
          "metadata": {}
        },
        {
          "output_type": "display_data",
          "data": {
            "application/vnd.google.colaboratory.intrinsic+json": {
              "type": "string"
            },
            "text/plain": [
              "'Zimbabwe'"
            ]
          },
          "metadata": {}
        },
        {
          "output_type": "stream",
          "name": "stdout",
          "text": [
            "-----------------------------------------------\n",
            "\u001b[1mMenor e maior valor:\u001b[0m\n",
            "-----------------------------------------------\n"
          ]
        },
        {
          "output_type": "display_data",
          "data": {
            "text/plain": [
              "0.0"
            ]
          },
          "metadata": {}
        },
        {
          "output_type": "display_data",
          "data": {
            "text/plain": [
              "100.0"
            ]
          },
          "metadata": {}
        },
        {
          "output_type": "stream",
          "name": "stdout",
          "text": [
            "-----------------------------------------------\n",
            "\u001b[1mTipos de dados das colunas:\u001b[0m\n"
          ]
        },
        {
          "output_type": "display_data",
          "data": {
            "text/plain": [
              "country     object\n",
              "Year        object\n",
              "Value      float64\n",
              "dtype: object"
            ]
          },
          "metadata": {}
        },
        {
          "output_type": "stream",
          "name": "stdout",
          "text": [
            "-----------------------------------------------\n",
            "\u001b[1mNomes das colunas:\u001b[0m\n",
            "['country' 'Year' 'Value']\n",
            "-----------------------------------------------\n",
            "\u001b[1mSoma dos nulos\u001b[0m\n",
            "country      0\n",
            "Year         0\n",
            "Value      403\n",
            "dtype: int64\n",
            "-----------------------------------------------\n",
            "\u001b[1mSoma dos não-nulos\u001b[0m\n",
            "country    7200\n",
            "Year       7200\n",
            "Value      6797\n",
            "dtype: int64\n",
            "-----------------------------------------------\n",
            "\u001b[1mDescribe\u001b[0m\n",
            "             Value\n",
            "count  6797.000000\n",
            "mean     53.722712\n",
            "std      21.188835\n",
            "min       0.000000\n",
            "25%      37.800000\n",
            "50%      56.100000\n",
            "75%      69.700000\n",
            "max     100.000000\n"
          ]
        }
      ]
    },
    {
      "cell_type": "code",
      "metadata": {
        "colab": {
          "base_uri": "https://localhost:8080/",
          "height": 409
        },
        "id": "ZmnLKjQwAGg-",
        "outputId": "4f904bcd-f273-424b-bc05-07e9c03bf615"
      },
      "source": [
        "pais = ['Brazil']\n",
        "filtered_df2 = df2[df2.country.isin(pais)]\n",
        "\n",
        "fig, ax = plt.subplots(figsize=(14,6))\n",
        "\n",
        "ax.plot(filtered_df2.Year, filtered_df2.Value, label = 'Brasil')\n",
        "\n",
        "ax.set_title('GAP MINDER - IDEA - Liberdade Religiosa no Brasil (Regressão a Intervalo Fixo)',\n",
        "fontsize=14, weight='bold')\n",
        "\n",
        "ax.set_xlabel('Ano', color='red', fontsize=14)\n",
        "ax.set_ylabel('Índice', color='blue', fontsize=14)\n",
        "\n",
        "\n",
        "ax.legend(fontsize=12)\n",
        "\n",
        "import matplotlib.ticker as ticker\n",
        "ax.xaxis.set_major_locator(ticker.MaxNLocator(25))\n",
        "\n",
        "plt.show()\n"
      ],
      "execution_count": null,
      "outputs": [
        {
          "output_type": "display_data",
          "data": {
            "image/png": "[encoded data removed]",
            "text/plain": [
              "<Figure size 1008x432 with 1 Axes>"
            ]
          },
          "metadata": {
            "needs_background": "light"
          }
        }
      ]
    },
    {
      "cell_type": "code",
      "metadata": {
        "colab": {
          "base_uri": "https://localhost:8080/",
          "height": 403
        },
        "id": "plxbksTcrGc_",
        "outputId": "121a0bd7-987d-4941-da76-14e2a31fac1d"
      },
      "source": [
        "fig, ax = plt.subplots(figsize=(14,6))\n",
        "USA = ['United States']\n",
        "NK = ['North Korea']\n",
        "CH = ['China']\n",
        "filtered_USA = df2[df2.country.isin(USA)]\n",
        "filtered_NK = df2[df2.country.isin(NK)]\n",
        "filtered_CH = df2[df2.country.isin(CH)]\n",
        "\n",
        "ax.plot(filtered_df2.Year, filtered_df2.Value, label='BRASIL', color='b', alpha=0.5)\n",
        "ax.plot(filtered_USA.Year, filtered_USA.Value, label='ESTADOS UNIDOS', color='r', alpha=0.5)\n",
        "ax.plot(filtered_NK.Year, filtered_NK.Value, label='CORÉIA DO NORTE', color='k', alpha=0.5)\n",
        "ax.plot(filtered_CH.Year, filtered_CH.Value, label='CHINA', color='m', alpha=0.5)\n",
        "\n",
        "ax.set_title('GAP MINDER - IDEA - Liberdade Religiosa (Regressão a Intervalo Fixo) - Brasil, Estados Unidos, China e Coréia do Norte', fontsize=14, weight='bold')\n",
        "\n",
        "ax.set_xlabel('Ano', color='red', fontsize=14)\n",
        "ax.set_ylabel('Índice', color='blue', fontsize=14)\n",
        "\n",
        "ax.legend(loc='upper left', fontsize=12)\n",
        "#ax2.legend(fontsize=12)\n",
        "\n",
        "import matplotlib.ticker as ticker\n",
        "ax.xaxis.set_major_locator(ticker.MaxNLocator(25))\n",
        "\n",
        "plt.show()\n"
      ],
      "execution_count": null,
      "outputs": [
        {
          "output_type": "display_data",
          "data": {
            "image/png": "[encoded data removed]",
            "text/plain": [
              "<Figure size 1008x432 with 1 Axes>"
            ]
          },
          "metadata": {
            "needs_background": "light"
          }
        }
      ]
    },
    {
      "cell_type": "markdown",
      "metadata": {
        "id": "OxVREjVZ8dj5"
      },
      "source": [
        "##**Análise pontual - ano de 2015**\n",
        ">Como há anos em que não há medição em alguns países, optei pelo ano de 2015, pois todos os dados estão completos para todos os países no arquivo.\n"
      ]
    },
    {
      "cell_type": "markdown",
      "metadata": {
        "id": "5HRsN8DCwoXT"
      },
      "source": [
        "##**Qual é o país com o maior índice de liberdade religiosa e qual a posição do Brasil?**"
      ]
    },
    {
      "cell_type": "code",
      "metadata": {
        "colab": {
          "base_uri": "https://localhost:8080/",
          "height": 357
        },
        "id": "enXQaIYTxstZ",
        "outputId": "c97964e7-e24e-4008-cf5c-69051aab9ead"
      },
      "source": [
        "df3 = df2[ df2.Year == '2015']\n",
        "df3.head()\n",
        "plt.figure(figsize=(24,6))\n",
        "#sns.barplot(x='country', y='Value', data=df2[ (df2.Value > df2.Value.mean() ) ])\n",
        "sns.barplot(x='country', y='Value', data=df3[ (df3.Value > 70 ) ])\n",
        "plt.title('Países com Índice de Liberdade Religiosa > 70', fontsize=40,\n",
        "          color=\"black\")\n",
        "\n",
        "plt.xlabel('País', color='black', fontsize=20)\n",
        "plt.ylabel('Índice de liberdade', color='black', fontsize=20)\n",
        "\n",
        "plt.xticks(rotation=60)\n",
        "plt.ylim([50,100])\n",
        "plt.show()"
      ],
      "execution_count": null,
      "outputs": [
        {
          "output_type": "display_data",
          "data": {
            "image/png": "[encoded data removed]",
            "text/plain": [
              "<Figure size 1728x432 with 1 Axes>"
            ]
          },
          "metadata": {
            "needs_background": "light"
          }
        }
      ]
    },
    {
      "cell_type": "code",
      "metadata": {
        "colab": {
          "base_uri": "https://localhost:8080/",
          "height": 79
        },
        "id": "byqNP1s4DQMT",
        "outputId": "1f148eaf-ddd0-41cd-955b-10c64809ac27"
      },
      "source": [
        "\n",
        "df3Posição = pd.DataFrame( df3[['country','Value']].sort_values('Value', ascending=False) ).reset_index(drop=True)\n",
        "df3Posição[df3Posição.country == 'Brazil']"
      ],
      "execution_count": null,
      "outputs": [
        {
          "output_type": "execute_result",
          "data": {
            "text/html": [
              "<div>\n",
              "<style scoped>\n",
              "    .dataframe tbody tr th:only-of-type {\n",
              "        vertical-align: middle;\n",
              "    }\n",
              "\n",
              "    .dataframe tbody tr th {\n",
              "        vertical-align: top;\n",
              "    }\n",
              "\n",
              "    .dataframe thead th {\n",
              "        text-align: right;\n",
              "    }\n",
              "</style>\n",
              "<table border=\"1\" class=\"dataframe\">\n",
              "  <thead>\n",
              "    <tr style=\"text-align: right;\">\n",
              "      <th></th>\n",
              "      <th>country</th>\n",
              "      <th>Value</th>\n",
              "    </tr>\n",
              "  </thead>\n",
              "  <tbody>\n",
              "    <tr>\n",
              "      <th>30</th>\n",
              "      <td>Brazil</td>\n",
              "      <td>70.2</td>\n",
              "    </tr>\n",
              "  </tbody>\n",
              "</table>\n",
              "</div>"
            ],
            "text/plain": [
              "   country  Value\n",
              "30  Brazil   70.2"
            ]
          },
          "metadata": {},
          "execution_count": 33
        }
      ]
    },
    {
      "cell_type": "markdown",
      "metadata": {
        "id": "oIAL4MQq8KTt"
      },
      "source": [
        "##**10 países com maior índice de liberdade religiosa**"
      ]
    },
    {
      "cell_type": "code",
      "metadata": {
        "colab": {
          "base_uri": "https://localhost:8080/",
          "height": 356
        },
        "id": "stwmaxNP5mkL",
        "outputId": "9ae9ce64-255d-4be1-db3f-aa63d48d0471"
      },
      "source": [
        "df3.loc[df3.Value.nlargest(10).index]"
      ],
      "execution_count": null,
      "outputs": [
        {
          "output_type": "execute_result",
          "data": {
            "text/html": [
              "<div>\n",
              "<style scoped>\n",
              "    .dataframe tbody tr th:only-of-type {\n",
              "        vertical-align: middle;\n",
              "    }\n",
              "\n",
              "    .dataframe tbody tr th {\n",
              "        vertical-align: top;\n",
              "    }\n",
              "\n",
              "    .dataframe thead th {\n",
              "        text-align: right;\n",
              "    }\n",
              "</style>\n",
              "<table border=\"1\" class=\"dataframe\">\n",
              "  <thead>\n",
              "    <tr style=\"text-align: right;\">\n",
              "      <th></th>\n",
              "      <th>country</th>\n",
              "      <th>Year</th>\n",
              "      <th>Value</th>\n",
              "    </tr>\n",
              "  </thead>\n",
              "  <tbody>\n",
              "    <tr>\n",
              "      <th>6678</th>\n",
              "      <td>Portugal</td>\n",
              "      <td>2015</td>\n",
              "      <td>100.0</td>\n",
              "    </tr>\n",
              "    <tr>\n",
              "      <th>6585</th>\n",
              "      <td>Chile</td>\n",
              "      <td>2015</td>\n",
              "      <td>86.1</td>\n",
              "    </tr>\n",
              "    <tr>\n",
              "      <th>6566</th>\n",
              "      <td>Australia</td>\n",
              "      <td>2015</td>\n",
              "      <td>83.2</td>\n",
              "    </tr>\n",
              "    <tr>\n",
              "      <th>6704</th>\n",
              "      <td>Trinidad and Tobago</td>\n",
              "      <td>2015</td>\n",
              "      <td>83.2</td>\n",
              "    </tr>\n",
              "    <tr>\n",
              "      <th>6571</th>\n",
              "      <td>Benin</td>\n",
              "      <td>2015</td>\n",
              "      <td>80.4</td>\n",
              "    </tr>\n",
              "    <tr>\n",
              "      <th>6592</th>\n",
              "      <td>Cape Verde</td>\n",
              "      <td>2015</td>\n",
              "      <td>79.0</td>\n",
              "    </tr>\n",
              "    <tr>\n",
              "      <th>6695</th>\n",
              "      <td>Sweden</td>\n",
              "      <td>2015</td>\n",
              "      <td>78.9</td>\n",
              "    </tr>\n",
              "    <tr>\n",
              "      <th>6666</th>\n",
              "      <td>Netherlands</td>\n",
              "      <td>2015</td>\n",
              "      <td>77.6</td>\n",
              "    </tr>\n",
              "    <tr>\n",
              "      <th>6605</th>\n",
              "      <td>Estonia</td>\n",
              "      <td>2015</td>\n",
              "      <td>76.9</td>\n",
              "    </tr>\n",
              "    <tr>\n",
              "      <th>6642</th>\n",
              "      <td>Liberia</td>\n",
              "      <td>2015</td>\n",
              "      <td>76.9</td>\n",
              "    </tr>\n",
              "  </tbody>\n",
              "</table>\n",
              "</div>"
            ],
            "text/plain": [
              "                  country  Year  Value\n",
              "6678             Portugal  2015  100.0\n",
              "6585                Chile  2015   86.1\n",
              "6566            Australia  2015   83.2\n",
              "6704  Trinidad and Tobago  2015   83.2\n",
              "6571                Benin  2015   80.4\n",
              "6592           Cape Verde  2015   79.0\n",
              "6695               Sweden  2015   78.9\n",
              "6666          Netherlands  2015   77.6\n",
              "6605              Estonia  2015   76.9\n",
              "6642              Liberia  2015   76.9"
            ]
          },
          "metadata": {},
          "execution_count": 34
        }
      ]
    },
    {
      "cell_type": "markdown",
      "metadata": {
        "id": "b4dOkNce8YoS"
      },
      "source": [
        "##**10 países com menor índice de liberdade religiosa**\n",
        "\n"
      ]
    },
    {
      "cell_type": "code",
      "metadata": {
        "id": "JTv8VsPc0_tE",
        "colab": {
          "base_uri": "https://localhost:8080/",
          "height": 356
        },
        "outputId": "25473c37-4d76-4c3f-a8d3-a6f3cf965715"
      },
      "source": [
        "df3.loc[df3.Value.nsmallest(10).index]"
      ],
      "execution_count": null,
      "outputs": [
        {
          "output_type": "execute_result",
          "data": {
            "text/html": [
              "<div>\n",
              "<style scoped>\n",
              "    .dataframe tbody tr th:only-of-type {\n",
              "        vertical-align: middle;\n",
              "    }\n",
              "\n",
              "    .dataframe tbody tr th {\n",
              "        vertical-align: top;\n",
              "    }\n",
              "\n",
              "    .dataframe thead th {\n",
              "        text-align: right;\n",
              "    }\n",
              "</style>\n",
              "<table border=\"1\" class=\"dataframe\">\n",
              "  <thead>\n",
              "    <tr style=\"text-align: right;\">\n",
              "      <th></th>\n",
              "      <th>country</th>\n",
              "      <th>Year</th>\n",
              "      <th>Value</th>\n",
              "    </tr>\n",
              "  </thead>\n",
              "  <tbody>\n",
              "    <tr>\n",
              "      <th>6677</th>\n",
              "      <td>North Korea</td>\n",
              "      <td>2015</td>\n",
              "      <td>0.00</td>\n",
              "    </tr>\n",
              "    <tr>\n",
              "      <th>6586</th>\n",
              "      <td>China</td>\n",
              "      <td>2015</td>\n",
              "      <td>6.76</td>\n",
              "    </tr>\n",
              "    <tr>\n",
              "      <th>6684</th>\n",
              "      <td>Saudi Arabia</td>\n",
              "      <td>2015</td>\n",
              "      <td>6.76</td>\n",
              "    </tr>\n",
              "    <tr>\n",
              "      <th>6697</th>\n",
              "      <td>Syria</td>\n",
              "      <td>2015</td>\n",
              "      <td>8.03</td>\n",
              "    </tr>\n",
              "    <tr>\n",
              "      <th>6575</th>\n",
              "      <td>Bahrain</td>\n",
              "      <td>2015</td>\n",
              "      <td>15.00</td>\n",
              "    </tr>\n",
              "    <tr>\n",
              "      <th>6603</th>\n",
              "      <td>Eritrea</td>\n",
              "      <td>2015</td>\n",
              "      <td>15.00</td>\n",
              "    </tr>\n",
              "    <tr>\n",
              "      <th>6702</th>\n",
              "      <td>Turkmenistan</td>\n",
              "      <td>2015</td>\n",
              "      <td>16.90</td>\n",
              "    </tr>\n",
              "    <tr>\n",
              "      <th>6701</th>\n",
              "      <td>Tajikistan</td>\n",
              "      <td>2015</td>\n",
              "      <td>18.10</td>\n",
              "    </tr>\n",
              "    <tr>\n",
              "      <th>6713</th>\n",
              "      <td>Uzbekistan</td>\n",
              "      <td>2015</td>\n",
              "      <td>18.10</td>\n",
              "    </tr>\n",
              "    <tr>\n",
              "      <th>6602</th>\n",
              "      <td>Egypt</td>\n",
              "      <td>2015</td>\n",
              "      <td>21.50</td>\n",
              "    </tr>\n",
              "  </tbody>\n",
              "</table>\n",
              "</div>"
            ],
            "text/plain": [
              "           country  Year  Value\n",
              "6677   North Korea  2015   0.00\n",
              "6586         China  2015   6.76\n",
              "6684  Saudi Arabia  2015   6.76\n",
              "6697         Syria  2015   8.03\n",
              "6575       Bahrain  2015  15.00\n",
              "6603       Eritrea  2015  15.00\n",
              "6702  Turkmenistan  2015  16.90\n",
              "6701    Tajikistan  2015  18.10\n",
              "6713    Uzbekistan  2015  18.10\n",
              "6602         Egypt  2015  21.50"
            ]
          },
          "metadata": {},
          "execution_count": 35
        }
      ]
    },
    {
      "cell_type": "markdown",
      "metadata": {
        "id": "R37Wpg7tAMyL"
      },
      "source": [
        "##**Outliers - Baseado no dataframe df2**"
      ]
    },
    {
      "cell_type": "code",
      "metadata": {
        "colab": {
          "base_uri": "https://localhost:8080/",
          "height": 281
        },
        "id": "MEx6AkJA-lE2",
        "outputId": "fadef41b-c834-40ae-ed17-c28891c1a785"
      },
      "source": [
        "df2_not_null = df2[ ~ np.isnan( df2.Value)]\n",
        "\n",
        "plt.figure(figsize=(12,4))\n",
        "plt.boxplot(df2_not_null[df2_not_null.country == 'Brazil'].Value,positions=[1])\n",
        "plt.boxplot(df2_not_null.Value,positions=[2])\n",
        "plt.title('Freedom Distributions')\n",
        "plt.xticks(ticks=[1,2], labels=['Brazil','World'])\n",
        "plt.show()"
      ],
      "execution_count": null,
      "outputs": [
        {
          "output_type": "display_data",
          "data": {
            "image/png": "[encoded data removed]",
            "text/plain": [
              "<Figure size 864x288 with 1 Axes>"
            ]
          },
          "metadata": {
            "needs_background": "light"
          }
        }
      ]
    },
    {
      "cell_type": "code",
      "metadata": {
        "colab": {
          "base_uri": "https://localhost:8080/",
          "height": 251
        },
        "id": "cg4aPB_CARtk",
        "outputId": "0b2a1048-aa86-4480-cd89-c88fd2fb3957"
      },
      "source": [
        "df2_not_null = df2[ ~ np.isnan( df2.Value)]\n",
        "\n",
        "plt.figure(figsize=(12,4))\n",
        "plt.boxplot(df2_not_null[df2_not_null.country == 'Brazil'].Value,positions=[1])\n",
        "plt.boxplot(df2_not_null[df2_not_null.country == 'United States'].Value,positions=[2])\n",
        "plt.boxplot(df2_not_null[df2_not_null.country == 'China'].Value,positions=[3])\n",
        "plt.boxplot(df2_not_null[df2_not_null.country == 'North Korea'].Value,positions=[4])\n",
        "plt.boxplot(df2_not_null.Value,positions=[5])\n",
        "plt.title('Freedom Distributions')\n",
        "plt.xticks(ticks=[1,2,3,4,5], labels=['Brazil','Estados Unidos', 'China', 'North Korea'', World'])\n",
        "plt.show()"
      ],
      "execution_count": null,
      "outputs": [
        {
          "output_type": "display_data",
          "data": {
            "image/png": "[encoded data removed]",
            "text/plain": [
              "<Figure size 864x288 with 1 Axes>"
            ]
          },
          "metadata": {
            "needs_background": "light"
          }
        }
      ]
    },
    {
      "cell_type": "markdown",
      "metadata": {
        "id": "dm9ibO2GwSQt"
      },
      "source": [
        "##**Observações sobre o tema**\n",
        ">A descrição do que compõe o índice é:\n",
        "\n",
        "*   Liberdade de religião\n",
        "*   Repressão a organizações religiosas\n",
        "*   Liberdade de pensamento, consciência e religião\n",
        "\n",
        ">Na análise sobre o número de patentes, eu trouxe à tona a questão de que a inovação está ligada ao dinheiro, ao poderio econômico dos países e de suas empresas. Mas caberia uma análise com um join dos dois arquivos comparando liberdade e progresso econômico (avaliada pelo número de patentes requeridas, nesse caso) para responder uma simples pergunta ao olhar o gráfico: \"Onde você gostaria de viver?\".\n",
        "\n",
        "\n",
        "\n"
      ]
    }
  ]
}